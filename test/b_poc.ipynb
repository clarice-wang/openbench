{
 "cells": [
  {
   "cell_type": "code",
   "execution_count": 20,
   "id": "6a2effea-178b-4462-b1c0-f04b7a2ec42e",
   "metadata": {},
   "outputs": [],
   "source": [
    "import sys\n",
    "import os\n",
    "sys.path.append('../src/')\n",
    "import importlib\n",
    "\n",
    "from openai import OpenAI\n",
    "\n",
    "import oracle\n",
    "import agent_a\n",
    "import agent_b\n",
    "import agent_c\n",
    "from prompts import *\n",
    "import prompts"
   ]
  },
  {
   "cell_type": "code",
   "execution_count": 32,
   "id": "07127bbc-6d7d-4222-9fca-e5e65ea713e7",
   "metadata": {},
   "outputs": [
    {
     "data": {
      "text/plain": [
       "<module 'prompts' from '/Users/shiyimin/Library/CloudStorage/OneDrive-NationalUniversityofSingapore/Projects/llm_lead/interviews/test/../src/prompts.py'>"
      ]
     },
     "execution_count": 32,
     "metadata": {},
     "output_type": "execute_result"
    }
   ],
   "source": [
    "importlib.reload(agent_b)\n",
    "importlib.reload(prompts)"
   ]
  },
  {
   "cell_type": "markdown",
   "id": "b8b5b830-2c3f-4e49-8600-b58da1bb0b51",
   "metadata": {},
   "source": [
    "## poc: data scientist"
   ]
  },
  {
   "cell_type": "markdown",
   "id": "69c89ab6-cf2f-4347-830d-0ec5c54442f5",
   "metadata": {},
   "source": [
    "主要职责\n",
    "作为 FBA 科学团队的一员，您将在亚马逊的 FBA 库存管理中发挥不可或缺的作用，并承担以下技术和领导责任：\n",
    "• 通过分析大量业务数据、深入挖掘以识别业务见解和机会、设计模拟和实验、根据业务需求开发统计和 ML 模型以及与科学家、工程师、BIE 和产品经理合作来解决现实问题。\n",
    "• 编写代码（Python、Scala 等）来分析数据并构建创新的统计和机器学习模型，以推动 FBA 的增长和效率。\n",
    "• 将业务问题转化为具体的分析问题并形成假设，这些假设可以使用科学方法通过可用数据来回答，或者确定主数据集中所需的其他数据以填补任何空白\n",
    "• 检索、分析、合成和呈现历史数据，使其能够立即用于回答特定问题、提高系统性能或支持决策。\n",
    "• 进行书面和口头陈述，向不同技术水平的受众分享见解和建议。\n",
    "• 积极主动地寻求识别商业机会和见解，并根据对亚马逊数据、行业最佳实践和其他团队所做的工作的广泛而深入的了解，提供解决方案来塑造关键业务流程和政策。\n",
    "\n",
    "Key Responsibilities\n",
    "As a member of the FBA Science team, you will play an integral role in Amazon's FBA inventory management with the following technical and leadership responsibilities:\n",
    "• Solve real-world problems by analyzing large amounts of business data, drilling down to identify business insights and opportunities, designing simulations and experiments, developing statistical and ML models based on business needs, and collaborating with scientists, engineers, BIE, and product managers. \n",
    "• Write code (Python, Scala, etc.) to analyze data and build innovative statistical and machine learning models to drive growth and efficiency for FBA. \n",
    "• Translate business problems into specific analytical questions and form hypotheses that can be answered using scientific methods with available data, or identify additional data needed in the master dataset to fill any gaps \n",
    "• Retrieve, analyze, synthesize, and present historical data so that it can be immediately used to answer specific questions, improve system performance, or support decision making. \n",
    "• Make written and oral presentations to share insights and recommendations to audiences of varying technical proficiency. \n",
    "• Proactively seek to identify business opportunities and insights, and provide solutions to shape key business processes and policies based on a broad and deep understanding of Amazon data, industry best practices, and the work done by other teams."
   ]
  },
  {
   "cell_type": "code",
   "execution_count": 34,
   "id": "5fa2eaa9-2b3e-4f31-aada-c7d2306021e5",
   "metadata": {},
   "outputs": [],
   "source": [
    "spath = \"../scripts/data_scientist_slight.json\"\n",
    "bb = agent_b.Agent_B(spath, )"
   ]
  },
  {
   "cell_type": "code",
   "execution_count": 35,
   "id": "dc7adae4-ce68-4bb7-a82b-6a6a5c8abcc1",
   "metadata": {},
   "outputs": [],
   "source": [
    "q0 = \"\"\"As a member of the FBA Science team, you will play an integral role in Amazon's FBA inventory management with the following technical and leadership responsibilities.\n",
    "can you introduce a little about your self? around coding skills, and your previous experience on handling large data analysis\"\"\""
   ]
  },
  {
   "cell_type": "code",
   "execution_count": 36,
   "id": "25889912-0115-45a6-a4b0-2e28b9aa30bf",
   "metadata": {},
   "outputs": [
    {
     "data": {
      "text/plain": [
       "\"I have a strong background in coding, particularly with Python and R, where I leverage libraries such as pandas, numpy, scipy, and scikit-learn for data analysis and machine learning tasks. I am very proficient in building deep learning models using frameworks like TensorFlow, PyTorch, and Keras. This experience allows me to tackle complex data-driven challenges effectively.\\n\\nRegarding large data analysis, I'm familiar with relational database systems and SQL for managing and querying data. I've worked with the MapReduce framework and the Hadoop system, which have given me a foundation in handling and processing large datasets. Although I'm not deeply versed in modern batch or streaming processing systems like Spark and Flink, I'm confident in my ability to quickly learn and adapt to these tools, thanks to my solid foundational knowledge.\\n\\nOverall, my experience and skills equip me well to contribute to Amazon's FBA inventory management, especially in areas related to data analysis and machine learning.\""
      ]
     },
     "execution_count": 36,
     "metadata": {},
     "output_type": "execute_result"
    }
   ],
   "source": [
    "bb.update_conv_a(q0)\n",
    "bb.respond(q0)"
   ]
  },
  {
   "cell_type": "code",
   "execution_count": 30,
   "id": "0ba6f921-9f73-4e8a-a588-c245bded1392",
   "metadata": {},
   "outputs": [
    {
     "data": {
      "text/plain": [
       "'While I have a strong foundation in handling large data with SQL and the MapReduce framework, and am familiar with the Hadoop system, my experience with modern batch processing systems like Spark is limited. However, I am a quick learner and eager to enhance my skills in this area to effectively handle large data processing tasks using Spark.'"
      ]
     },
     "execution_count": 30,
     "metadata": {},
     "output_type": "execute_result"
    }
   ],
   "source": [
    "q1 = \"are you familiar with the Spark system for applying batch processing with large data scale?\"\n",
    "bb.update_conv_a(q1)\n",
    "bb.respond(q1)"
   ]
  },
  {
   "cell_type": "code",
   "execution_count": 31,
   "id": "bb928d83-3ee2-4b5a-8f25-0e0652ecacd9",
   "metadata": {},
   "outputs": [
    {
     "data": {
      "text/plain": [
       "\"In terms of data visualization, I have experience using tools like Matplotlib, Seaborn, and Plotly to create visualizations. I would consider my proficiency to be at an intermediate level, which allows me to create basic visualizations effectively. While I wouldn't call myself an expert, I am quite capable and continuously looking to improve my skills in this area.\""
      ]
     },
     "execution_count": 31,
     "metadata": {},
     "output_type": "execute_result"
    }
   ],
   "source": [
    "q2 = \"are you an expert on the data visialization?\"\n",
    "bb.update_conv_a(q2)\n",
    "bb.respond(q2)"
   ]
  },
  {
   "cell_type": "code",
   "execution_count": null,
   "id": "bbe66978-7cfd-4aee-a64d-8d76d65bf660",
   "metadata": {},
   "outputs": [],
   "source": []
  },
  {
   "cell_type": "code",
   "execution_count": null,
   "id": "3bffbdc0-46b0-4980-8be9-8f7ebf5023c9",
   "metadata": {},
   "outputs": [],
   "source": []
  },
  {
   "cell_type": "code",
   "execution_count": null,
   "id": "c9b647c3-adb1-4796-a73f-1552f53ba452",
   "metadata": {},
   "outputs": [],
   "source": []
  },
  {
   "cell_type": "code",
   "execution_count": null,
   "id": "c58ba543-cf8e-4b94-bf3c-1fc9bf6aa39a",
   "metadata": {},
   "outputs": [],
   "source": []
  },
  {
   "cell_type": "code",
   "execution_count": null,
   "id": "47cdfd6d-9d2c-40e9-8cae-f06ca9f2a477",
   "metadata": {},
   "outputs": [],
   "source": []
  }
 ],
 "metadata": {
  "kernelspec": {
   "display_name": "Python 3 (ipykernel)",
   "language": "python",
   "name": "python3"
  },
  "language_info": {
   "codemirror_mode": {
    "name": "ipython",
    "version": 3
   },
   "file_extension": ".py",
   "mimetype": "text/x-python",
   "name": "python",
   "nbconvert_exporter": "python",
   "pygments_lexer": "ipython3",
   "version": "3.9.6"
  }
 },
 "nbformat": 4,
 "nbformat_minor": 5
}
