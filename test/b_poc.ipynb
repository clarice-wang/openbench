{
 "cells": [
  {
   "cell_type": "code",
   "execution_count": 20,
   "id": "6a2effea-178b-4462-b1c0-f04b7a2ec42e",
   "metadata": {},
   "outputs": [],
   "source": [
    "import sys\n",
    "import os\n",
    "sys.path.append('../src/')\n",
    "import importlib\n",
    "\n",
    "from openai import OpenAI\n",
    "\n",
    "import oracle\n",
    "import agent_a\n",
    "import agent_b\n",
    "import agent_c\n",
    "from prompts import *\n",
    "import prompts"
   ]
  },
  {
   "cell_type": "code",
   "execution_count": 55,
   "id": "07127bbc-6d7d-4222-9fca-e5e65ea713e7",
   "metadata": {},
   "outputs": [
    {
     "data": {
      "text/plain": [
       "<module 'prompts' from '/Users/shiyimin/Library/CloudStorage/OneDrive-NationalUniversityofSingapore/Projects/llm_lead/interviews/test/../src/prompts.py'>"
      ]
     },
     "execution_count": 55,
     "metadata": {},
     "output_type": "execute_result"
    }
   ],
   "source": [
    "importlib.reload(agent_b)\n",
    "importlib.reload(prompts)"
   ]
  },
  {
   "cell_type": "markdown",
   "id": "b8b5b830-2c3f-4e49-8600-b58da1bb0b51",
   "metadata": {},
   "source": [
    "## poc: data scientist"
   ]
  },
  {
   "cell_type": "markdown",
   "id": "69c89ab6-cf2f-4347-830d-0ec5c54442f5",
   "metadata": {},
   "source": [
    "主要职责\n",
    "作为 FBA 科学团队的一员，您将在亚马逊的 FBA 库存管理中发挥不可或缺的作用，并承担以下技术和领导责任：\n",
    "• 通过分析大量业务数据、深入挖掘以识别业务见解和机会、设计模拟和实验、根据业务需求开发统计和 ML 模型以及与科学家、工程师、BIE 和产品经理合作来解决现实问题。\n",
    "• 编写代码（Python、Scala 等）来分析数据并构建创新的统计和机器学习模型，以推动 FBA 的增长和效率。\n",
    "• 将业务问题转化为具体的分析问题并形成假设，这些假设可以使用科学方法通过可用数据来回答，或者确定主数据集中所需的其他数据以填补任何空白\n",
    "• 检索、分析、合成和呈现历史数据，使其能够立即用于回答特定问题、提高系统性能或支持决策。\n",
    "• 进行书面和口头陈述，向不同技术水平的受众分享见解和建议。\n",
    "• 积极主动地寻求识别商业机会和见解，并根据对亚马逊数据、行业最佳实践和其他团队所做的工作的广泛而深入的了解，提供解决方案来塑造关键业务流程和政策。\n",
    "\n",
    "Key Responsibilities\n",
    "As a member of the FBA Science team, you will play an integral role in Amazon's FBA inventory management with the following technical and leadership responsibilities:\n",
    "• Solve real-world problems by analyzing large amounts of business data, drilling down to identify business insights and opportunities, designing simulations and experiments, developing statistical and ML models based on business needs, and collaborating with scientists, engineers, BIE, and product managers. \n",
    "• Write code (Python, Scala, etc.) to analyze data and build innovative statistical and machine learning models to drive growth and efficiency for FBA. \n",
    "• Translate business problems into specific analytical questions and form hypotheses that can be answered using scientific methods with available data, or identify additional data needed in the master dataset to fill any gaps \n",
    "• Retrieve, analyze, synthesize, and present historical data so that it can be immediately used to answer specific questions, improve system performance, or support decision making. \n",
    "• Make written and oral presentations to share insights and recommendations to audiences of varying technical proficiency. \n",
    "• Proactively seek to identify business opportunities and insights, and provide solutions to shape key business processes and policies based on a broad and deep understanding of Amazon data, industry best practices, and the work done by other teams."
   ]
  },
  {
   "cell_type": "markdown",
   "id": "e45a734e-1e63-41c4-b6c3-50d995ab6977",
   "metadata": {},
   "source": [
    "### normal"
   ]
  },
  {
   "cell_type": "code",
   "execution_count": 47,
   "id": "d2666d2e-8886-414a-bdf5-b8ed3330ca61",
   "metadata": {},
   "outputs": [],
   "source": [
    "spath = \"../scripts/data_scientist_normal.json\"\n",
    "bb2 = agent_b.Agent_B(spath, )"
   ]
  },
  {
   "cell_type": "code",
   "execution_count": 48,
   "id": "68a66bda-dcc3-452e-9760-be9ccafaa2d1",
   "metadata": {},
   "outputs": [
    {
     "data": {
      "text/plain": [
       "'Certainly! I have a foundational understanding of basic machine learning theory, and I am confident in using probabilistic frameworks to explain models like linear regression and neural networks. I also have hands-on experience building deep neural network models and performing data preprocessing tasks with frameworks like PyTorch and TensorFlow.\\n\\nWhen it comes to statistics, I have a solid background and am familiar with concepts like likelihood and Bayesian methods. I am proficient in statistical software and programming languages such as R and Python, using libraries like pandas, numpy, and scipy for data analysis and visualization.\\n\\nRegarding handling large data analysis, I am familiar with relational database systems and can work with SQL. I know about concepts like data cleansing and ETL processes, although my knowledge about the details is limited. While I have a basic understanding of the MapReduce framework and the Hadoop system, I am less familiar with modern batch or streaming processing systems like Spark and Flink.\\n\\nFor data visualization, I have intermediate skills and can use tools like Matplotlib and Seaborn to create basic visualizations. \\n\\nOverall, I am eager to bring my skills in machine learning and statistics, along with my data handling experience, to the FBA Science team.'"
      ]
     },
     "execution_count": 48,
     "metadata": {},
     "output_type": "execute_result"
    }
   ],
   "source": [
    "q0 = \"\"\"As a member of the FBA Science team, you will play an integral role in Amazon's FBA inventory management with the following technical and leadership responsibilities.\n",
    "can you introduce a little about your self? around coding skills, and your previous experience on handling large data analysis\"\"\"\n",
    "bb2.update_conv_a(q0)\n",
    "bb2.respond(q0)"
   ]
  },
  {
   "cell_type": "code",
   "execution_count": 49,
   "id": "f3f23ff9-c4aa-4e47-91a9-17013c6b056e",
   "metadata": {},
   "outputs": [
    {
     "data": {
      "text/plain": [
       "\"While I have a basic understanding of the MapReduce framework and the Hadoop system, I am not familiar with modern batch processing systems like Spark. My experience with handling large data scales primarily involves working with relational database systems and using SQL for data analysis. However, I am eager to learn and expand my knowledge in this area to better contribute to the team's goals.\""
      ]
     },
     "execution_count": 49,
     "metadata": {},
     "output_type": "execute_result"
    }
   ],
   "source": [
    "q1 = \"are you familiar with the Spark system for applying batch processing with large data scale?\"\n",
    "bb2.update_conv_a(q1)\n",
    "bb2.respond(q1)"
   ]
  },
  {
   "cell_type": "code",
   "execution_count": 50,
   "id": "561702c4-191e-4ada-9f47-5813382cf5fb",
   "metadata": {},
   "outputs": [
    {
     "data": {
      "text/plain": [
       "\"While I wouldn't consider myself an expert in data visualization, I do have intermediate skills in this area. I can create basic visualizations using tools like Matplotlib and Seaborn. I'm comfortable discussing these tools further if you'd like more details.\""
      ]
     },
     "execution_count": 50,
     "metadata": {},
     "output_type": "execute_result"
    }
   ],
   "source": [
    "q2 = \"are you an expert on the data visialization?\"\n",
    "bb2.update_conv_a(q2)\n",
    "bb2.respond(q2)"
   ]
  },
  {
   "cell_type": "markdown",
   "id": "79d454d1-ecf4-4a9d-90e1-14e60d543edf",
   "metadata": {},
   "source": [
    "### slight"
   ]
  },
  {
   "cell_type": "code",
   "execution_count": 37,
   "id": "5fa2eaa9-2b3e-4f31-aada-c7d2306021e5",
   "metadata": {},
   "outputs": [],
   "source": [
    "spath = \"../scripts/data_scientist_slight.json\"\n",
    "bb = agent_b.Agent_B(spath, )"
   ]
  },
  {
   "cell_type": "code",
   "execution_count": 38,
   "id": "dc7adae4-ce68-4bb7-a82b-6a6a5c8abcc1",
   "metadata": {},
   "outputs": [],
   "source": [
    "q0 = \"\"\"As a member of the FBA Science team, you will play an integral role in Amazon's FBA inventory management with the following technical and leadership responsibilities.\n",
    "can you introduce a little about your self? around coding skills, and your previous experience on handling large data analysis\"\"\""
   ]
  },
  {
   "cell_type": "code",
   "execution_count": 39,
   "id": "25889912-0115-45a6-a4b0-2e28b9aa30bf",
   "metadata": {},
   "outputs": [
    {
     "data": {
      "text/plain": [
       "\"I have a strong foundation in machine learning, where I'm proficient in building deep neural network models and conducting data preprocessing tasks using frameworks like PyTorch, TensorFlow, scikit-learn, and Keras. I've also worked with deploying models using platforms such as TensorFlow Serving and ONNX. My experience with statistics is solid as well, where I'm familiar with concepts like likelihood, Bayesian methods, and I have a good handle on probability distributions and statistical inference methods. I can also perform data analysis and visualization using R and Python, leveraging libraries such as pandas, numpy, scipy, Matplotlib, Seaborn, and Plotly. \\n\\nRegarding handling large data sets, I am familiar with relational database systems and SQL. I understand concepts like data cleansing, ETL processes, and data warehousing principles, though my knowledge of modern batch processing or streaming processing systems like Storm, Spark, and Flink is more limited. However, I am quite confident in my ability to quickly learn and adapt to new technologies and systems as required.\\n\\nOverall, my coding skills are well-honed for the requirements of large data analysis, and I'm eager to bring my expertise to the FBA Science team at Amazon.\""
      ]
     },
     "execution_count": 39,
     "metadata": {},
     "output_type": "execute_result"
    }
   ],
   "source": [
    "bb.update_conv_a(q0)\n",
    "bb.respond(q0)"
   ]
  },
  {
   "cell_type": "code",
   "execution_count": 40,
   "id": "0ba6f921-9f73-4e8a-a588-c245bded1392",
   "metadata": {},
   "outputs": [
    {
     "data": {
      "text/plain": [
       "\"I have some foundational knowledge of working with large data sets, particularly in relational database systems and SQL. While I'm aware of concepts like data cleansing, ETL processes, and data warehousing principles, my direct experience with modern batch processing systems such as Spark is limited. However, I am highly adaptable and have a strong ability to learn new systems quickly. I am confident that I can quickly get up to speed with Spark and apply it effectively to handle batch processing tasks.\""
      ]
     },
     "execution_count": 40,
     "metadata": {},
     "output_type": "execute_result"
    }
   ],
   "source": [
    "q1 = \"are you familiar with the Spark system for applying batch processing with large data scale?\"\n",
    "bb.update_conv_a(q1)\n",
    "bb.respond(q1)"
   ]
  },
  {
   "cell_type": "code",
   "execution_count": 41,
   "id": "bb928d83-3ee2-4b5a-8f25-0e0652ecacd9",
   "metadata": {},
   "outputs": [
    {
     "data": {
      "text/plain": [
       "\"While I wouldn't label myself as an absolute expert in data visualization, I do have a solid intermediate skill level. I can effectively use tools like Matplotlib, Seaborn, and Plotly to create basic visualizations. My experience includes leveraging these tools to visualize data analysis results and present insights in a clear and understandable manner. I'm always keen on enhancing my skills and am confident in my ability to quickly learn and adapt to more advanced data visualization techniques as needed.\""
      ]
     },
     "execution_count": 41,
     "metadata": {},
     "output_type": "execute_result"
    }
   ],
   "source": [
    "q2 = \"are you an expert on the data visialization?\"\n",
    "bb.update_conv_a(q2)\n",
    "bb.respond(q2)"
   ]
  },
  {
   "cell_type": "markdown",
   "id": "03377f5c-9806-43d2-9c3e-602f63e31bd3",
   "metadata": {},
   "source": [
    "### extensive"
   ]
  },
  {
   "cell_type": "code",
   "execution_count": 56,
   "id": "9739358f-c974-4621-9fdc-ea6950e00a55",
   "metadata": {},
   "outputs": [],
   "source": [
    "spath = \"../scripts/data_scientist_extensive.json\"\n",
    "bb3 = agent_b.Agent_B(spath, )"
   ]
  },
  {
   "cell_type": "code",
   "execution_count": 57,
   "id": "3bffbdc0-46b0-4980-8be9-8f7ebf5023c9",
   "metadata": {},
   "outputs": [
    {
     "data": {
      "text/plain": [
       "\"As someone with a strong background in machine learning and statistics, I have developed robust coding skills, particularly in Python and R. I am confident in using libraries such as TensorFlow, PyTorch, and scikit-learn to build and deploy machine learning models, which could be quite valuable in optimizing Amazon's FBA inventory management systems. \\n\\nIn terms of handling large data analysis, I've worked with relational database systems and have a solid understanding of SQL for querying and managing data. Although my knowledge of big data technologies like Hadoop and MapReduce is limited, I have been actively expanding my skills in this area and am eager to apply them in a real-world context.\\n\\nAdditionally, I possess skills in data visualization using tools like Matplotlib and Seaborn, allowing me to create meaningful and informative visualizations that can aid in decision-making processes.\\n\\nThroughout my experiences, I've learned the importance of combining real and sometimes modified scenarios to effectively communicate my skills and ensure alignment with organizational goals. This approach helps me present a comprehensive picture of my abilities, which I believe will be beneficial for the FBA Science team.\""
      ]
     },
     "execution_count": 57,
     "metadata": {},
     "output_type": "execute_result"
    }
   ],
   "source": [
    "q0 = \"\"\"As a member of the FBA Science team, you will play an integral role in Amazon's FBA inventory management with the following technical and leadership responsibilities.\n",
    "can you introduce a little about your self? around coding skills, and your previous experience on handling large data analysis\"\"\"\n",
    "bb3.update_conv_a(q0)\n",
    "bb3.respond(q0)"
   ]
  },
  {
   "cell_type": "code",
   "execution_count": 58,
   "id": "c9b647c3-adb1-4796-a73f-1552f53ba452",
   "metadata": {},
   "outputs": [
    {
     "data": {
      "text/plain": [
       "'While I have a foundational understanding of big data concepts and have worked with technologies like Hadoop and MapReduce, I must admit that I am not very familiar with modern batch processing systems like Spark. However, I am highly motivated to learn and adapt to new technologies and am eager to deepen my knowledge in this area to effectively handle large-scale data processing tasks. I am confident that my strong analytical skills and experience with machine learning and statistics will facilitate my learning process.'"
      ]
     },
     "execution_count": 58,
     "metadata": {},
     "output_type": "execute_result"
    }
   ],
   "source": [
    "q1 = \"are you familiar with the Spark system for applying batch processing with large data scale?\"\n",
    "bb3.update_conv_a(q1)\n",
    "bb3.respond(q1)"
   ]
  },
  {
   "cell_type": "code",
   "execution_count": 59,
   "id": "c58ba543-cf8e-4b94-bf3c-1fc9bf6aa39a",
   "metadata": {},
   "outputs": [
    {
     "data": {
      "text/plain": [
       "\"In terms of data visualization, I would say I'm at an intermediate level. I am comfortable using tools like Matplotlib, Seaborn, and Plotly to create basic visualizations that can effectively communicate data insights. While I might not classify myself as an expert, I have the foundational skills necessary to produce informative visualizations, and I'm always looking to enhance my capabilities further. My ability to present data clearly is something I've honed over time, and I believe it can support decision-making processes effectively.\""
      ]
     },
     "execution_count": 59,
     "metadata": {},
     "output_type": "execute_result"
    }
   ],
   "source": [
    "q2 = \"are you an expert on the data visialization?\"\n",
    "bb3.update_conv_a(q2)\n",
    "bb3.respond(q2)"
   ]
  },
  {
   "cell_type": "code",
   "execution_count": null,
   "id": "47cdfd6d-9d2c-40e9-8cae-f06ca9f2a477",
   "metadata": {},
   "outputs": [],
   "source": []
  },
  {
   "cell_type": "code",
   "execution_count": null,
   "id": "cd641eef-8281-422c-ba04-f26af8cfd5d3",
   "metadata": {},
   "outputs": [],
   "source": []
  },
  {
   "cell_type": "code",
   "execution_count": null,
   "id": "e313d426-f7f9-4ea9-8e08-0877cb3f99e2",
   "metadata": {},
   "outputs": [],
   "source": []
  },
  {
   "cell_type": "code",
   "execution_count": null,
   "id": "b988c780-3c48-417a-90af-0a5d4ae85f27",
   "metadata": {},
   "outputs": [],
   "source": []
  }
 ],
 "metadata": {
  "kernelspec": {
   "display_name": "Python 3 (ipykernel)",
   "language": "python",
   "name": "python3"
  },
  "language_info": {
   "codemirror_mode": {
    "name": "ipython",
    "version": 3
   },
   "file_extension": ".py",
   "mimetype": "text/x-python",
   "name": "python",
   "nbconvert_exporter": "python",
   "pygments_lexer": "ipython3",
   "version": "3.9.6"
  }
 },
 "nbformat": 4,
 "nbformat_minor": 5
}
