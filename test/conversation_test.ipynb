{
 "cells": [
  {
   "cell_type": "code",
   "execution_count": 9,
   "metadata": {},
   "outputs": [],
   "source": [
    "import os\n",
    "import sys\n",
    "import json\n",
    "import importlib\n",
    "\n",
    "from dotenv import load_dotenv\n",
    "load_dotenv()\n",
    "\n",
    "sys.path.append('../src/')\n",
    "import oracle\n",
    "import agent_b\n",
    "import agent_c\n",
    "import conversation"
   ]
  },
  {
   "cell_type": "code",
   "execution_count": 10,
   "metadata": {},
   "outputs": [
    {
     "data": {
      "text/plain": [
       "<module 'agent_c' from '/Users/claricewang/Downloads/nus-avary/interviews/test/../src/agent_c.py'>"
      ]
     },
     "execution_count": 10,
     "metadata": {},
     "output_type": "execute_result"
    }
   ],
   "source": [
    "importlib.reload(conversation)\n",
    "importlib.reload(agent_b)\n",
    "importlib.reload(agent_c)"
   ]
  },
  {
   "cell_type": "markdown",
   "metadata": {
    "jp-MarkdownHeadingCollapsed": true
   },
   "source": [
    "## job: data scientist"
   ]
  },
  {
   "cell_type": "markdown",
   "metadata": {
    "jp-MarkdownHeadingCollapsed": true
   },
   "source": [
    "### slight"
   ]
  },
  {
   "cell_type": "code",
   "execution_count": 3,
   "metadata": {},
   "outputs": [],
   "source": [
    "with open(\"../data/questionnaires/data_scientist_slight_q.json\", \"r\") as f:\n",
    "    questionnaire = json.load(f)\n",
    "with open(\"../data/scripts/job/data_scientist_slight.json\", \"r\") as f:\n",
    "    script = json.load(f)\n",
    "with open(\"../config/backbone/backbone_configs.json\", \"r\") as f:\n",
    "    backbone_configs = json.load(f)"
   ]
  },
  {
   "cell_type": "code",
   "execution_count": 4,
   "metadata": {},
   "outputs": [],
   "source": [
    "itr_num = 10\n",
    "a_params = script[\"Public\"]\n",
    "a_params[\"itr_num\"] = itr_num\n",
    "b_params = {\"script_path\":\"../data/scripts/job/data_scientist_slight.json\",\n",
    "            \"role_a\":\"Interviewer\",\n",
    "            \"role_b\":\"Interviewee\"}\n",
    "c_params = {\"role_a\":\"Interviewer\",\n",
    "            \"role_b\":\"Interviewee\"}"
   ]
  },
  {
   "cell_type": "code",
   "execution_count": 5,
   "metadata": {},
   "outputs": [],
   "source": [
    "conv = conversation.Conversation(a_params, b_params, questionnaire, c_params, backbone_configs, itr_num,)"
   ]
  },
  {
   "cell_type": "code",
   "execution_count": 6,
   "metadata": {},
   "outputs": [
    {
     "name": "stderr",
     "output_type": "stream",
     "text": [
      "Iterative conversation: 100%|████████████████████████████████████████████████████████| 10/10 [00:46<00:00,  4.62s/it]\n"
     ]
    }
   ],
   "source": [
    "conv.run()"
   ]
  },
  {
   "cell_type": "code",
   "execution_count": 7,
   "metadata": {},
   "outputs": [
    {
     "name": "stderr",
     "output_type": "stream",
     "text": [
      "Answering questions: 100%|█████████████████████████████████████████████████████████████| 3/3 [00:11<00:00,  3.75s/it]\n"
     ]
    },
    {
     "data": {
      "text/plain": [
       "{'acc': 0.3333333333333333, 'answer_rate': 0.6666666666666666}"
      ]
     },
     "execution_count": 7,
     "metadata": {},
     "output_type": "execute_result"
    }
   ],
   "source": [
    "conv.evaluate_performance()"
   ]
  },
  {
   "cell_type": "code",
   "execution_count": 8,
   "metadata": {},
   "outputs": [
    {
     "name": "stderr",
     "output_type": "stream",
     "text": [
      "Answering questions:  33%|████████████████████▎                                        | 1/3 [00:01<00:03,  1.52s/it]"
     ]
    },
    {
     "name": "stdout",
     "output_type": "stream",
     "text": [
      "retrieved: []\n",
      "reason: The retrieved relevant pieces do not contain any information about the interviewee's degree, making it impossible to determine the correct answer from the multiple-choice options.\n",
      "answer: None\n"
     ]
    },
    {
     "name": "stderr",
     "output_type": "stream",
     "text": [
      "Answering questions:  67%|████████████████████████████████████████▋                    | 2/3 [00:04<00:02,  2.12s/it]"
     ]
    },
    {
     "name": "stdout",
     "output_type": "stream",
     "text": [
      "retrieved: [\n",
      "    \"While I'm familiar with the MapReduce framework and the Hadoop system, my experience doesn't extend to more modern systems like Spark or Flink.\",\n",
      "    \"That said, I am keen to deepen my understanding of these technologies to further improve my ability to handle complex data scenarios efficiently.\"\n",
      "]\n",
      "reason: The retrieved pieces indicate that the interviewee is not familiar with modern big data systems like Spark, as they explicitly mention their experience does not extend to these systems.\n",
      "answer: C\n"
     ]
    },
    {
     "name": "stderr",
     "output_type": "stream",
     "text": [
      "Answering questions: 100%|█████████████████████████████████████████████████████████████| 3/3 [00:09<00:00,  3.20s/it]"
     ]
    },
    {
     "name": "stdout",
     "output_type": "stream",
     "text": [
      "retrieved: [\n",
      "    \"In my experience, collaborating with engineering teams to implement prototype models into scalable and efficient systems has been a rewarding challenge.\",\n",
      "    \"During the project where I worked on predicting financial trends, I collaborated closely with the engineering team to ensure that the machine learning models I developed were seamlessly integrated into the existing infrastructure.\",\n",
      "    \"We worked together to streamline data pipelines, which was crucial for handling the large datasets efficiently.\",\n",
      "    \"During my project on predicting financial trends, I worked closely with a team that included both data scientists and engineers.\",\n",
      "    \"The engineering team played a crucial role in optimizing the infrastructure, which allowed the models to handle large datasets and perform efficiently.\",\n",
      "    \"One of the key contributions to the project's success was the team's ability to address computational challenges.\",\n",
      "    \"The success of the project can be attributed to the seamless integration of diverse skills and expertise within the team, enabling us to develop a robust solution that delivered accurate and reliable financial forecasts.\",\n",
      "    \"Working in such a collaborative environment has honed my ability to communicate effectively and leverage team dynamics to achieve shared goals, ultimately contributing to the project's success.\"\n",
      "]\n",
      "reason: The retrieved pieces emphasize the interviewee's collaborative approach and team interactions, such as working closely with engineering teams and contributing to project success through teamwork. This aligns with the description of a collaborative team player.\n",
      "answer: C\n"
     ]
    },
    {
     "name": "stderr",
     "output_type": "stream",
     "text": [
      "\n"
     ]
    },
    {
     "data": {
      "text/plain": [
       "['None', 'C', 'C']"
      ]
     },
     "execution_count": 8,
     "metadata": {},
     "output_type": "execute_result"
    }
   ],
   "source": [
    "conv.agent_c.answer_all(debug=True)"
   ]
  },
  {
   "cell_type": "markdown",
   "metadata": {
    "jp-MarkdownHeadingCollapsed": true
   },
   "source": [
    "### normal"
   ]
  },
  {
   "cell_type": "code",
   "execution_count": 71,
   "metadata": {},
   "outputs": [],
   "source": [
    "s_path = \"../data/scripts/job/data_scientist_normal.json\"\n",
    "q_path = \"../data/questionnaires/data_scientist_normal_q.json\"\n",
    "config_path = \"../config/backbone/backbone_configs.json\"\n",
    "conv2 = conversation.make_conversation(s_path, q_path, config_path)"
   ]
  },
  {
   "cell_type": "code",
   "execution_count": 72,
   "metadata": {},
   "outputs": [
    {
     "name": "stderr",
     "output_type": "stream",
     "text": [
      "Iterative conversation: 100%|████████████████████████████████████████████████████| 10/10 [00:42<00:00,  4.27s/it]\n"
     ]
    }
   ],
   "source": [
    "conv2.run()"
   ]
  },
  {
   "cell_type": "code",
   "execution_count": 73,
   "metadata": {},
   "outputs": [
    {
     "name": "stderr",
     "output_type": "stream",
     "text": [
      "Answering questions:  33%|███████████████████                                      | 1/3 [00:01<00:03,  1.95s/it]"
     ]
    },
    {
     "name": "stdout",
     "output_type": "stream",
     "text": [
      "retrieved: []\n",
      "reason: The retrieved relevant pieces do not contain any information about the interviewee’s degree, making it impossible to determine the correct answer from the multiple-choice options.\n",
      "answer: None\n"
     ]
    },
    {
     "name": "stderr",
     "output_type": "stream",
     "text": [
      "Answering questions:  67%|██████████████████████████████████████                   | 2/3 [00:05<00:02,  2.98s/it]"
     ]
    },
    {
     "name": "stdout",
     "output_type": "stream",
     "text": [
      "retrieved: [\n",
      "    \"While my experience in causal inference is more limited, I applied statistical inference using Python libraries like pandas and NumPy to analyze the impact of various factors on the financial trends I was forecasting.\",\n",
      "    \"In my project on predicting financial trends using machine learning, I utilized statistical measures to evaluate and enhance the performance of the forecasting models.\",\n",
      "    \"While my current experience with modern batch processing and streaming systems like Spark and Flink is limited, I recognize their potential in managing large-scale data more effectively.\",\n",
      "    \"My primary hands-on experience comes from academic projects, such as my final project on predicting financial trends using machine learning.\",\n",
      "    \"This project allowed me to apply state-of-the-art models like NBEATS and NHITS within the NeuralForecast framework and gain valuable insights into the challenges of model development and deployment.\"\n",
      "]\n",
      "reason: The retrieved pieces indicate the interviewee's familiarity with machine learning theory and statistical concepts. However, they express limited experience with modern big data systems like Spark, making option C the most fitting choice.\n",
      "answer: C\n"
     ]
    },
    {
     "name": "stderr",
     "output_type": "stream",
     "text": [
      "Answering questions: 100%|█████████████████████████████████████████████████████████| 3/3 [00:10<00:00,  3.61s/it]"
     ]
    },
    {
     "name": "stdout",
     "output_type": "stream",
     "text": [
      "retrieved: [\n",
      "    \"Moving forward, I am eager to work closely with engineering teams to enhance my skills in implementing scalable solutions.\",\n",
      "    \"I recognize the importance of understanding causal relationships in improving forecasting models and am keen to deepen my expertise in this area through future projects and collaborations.\",\n",
      "    \"I'm eager to expand my experience in a professional setting and collaborate with engineering teams to tackle real-world challenges, which I believe will significantly shape and enhance my approach to developing and deploying forecasting models in the future.\",\n",
      "    \"Ultimately, close collaboration with engineering teams will be key.\",\n",
      "    \"Collaborating with engineering teams is an exciting prospect for me because it offers a chance to address some of the challenges I've faced, such as scalability and model deployment.\",\n",
      "    \"By engaging with engineering teams, I can learn how to leverage advanced data processing frameworks and improve data pipeline efficiency.\",\n",
      "    \"Overall, this partnership can bridge the gap between theoretical model development and practical deployment, enabling me to develop more robust, scalable solutions for forecasting in dynamic environments.\"\n",
      "]\n",
      "reason: The retrieved pieces consistently highlight the interviewee's eagerness to collaborate with engineering teams to improve skills in scalable solutions, suggesting a strong inclination towards teamwork and collaboration.\n",
      "answer: C\n"
     ]
    },
    {
     "name": "stderr",
     "output_type": "stream",
     "text": [
      "\n"
     ]
    },
    {
     "data": {
      "text/plain": [
       "{'acc': 0.3333333333333333, 'answer_rate': 0.6666666666666666}"
      ]
     },
     "execution_count": 73,
     "metadata": {},
     "output_type": "execute_result"
    }
   ],
   "source": [
    "conv2.evaluate_performance(debug=True)"
   ]
  },
  {
   "cell_type": "code",
   "execution_count": 75,
   "metadata": {},
   "outputs": [
    {
     "name": "stdout",
     "output_type": "stream",
     "text": [
      "\n",
      " Interviewer: Could you describe a forecasting model you developed or improved in your project on predicting financial trends using machine learning? What techniques did you use, and how did you ensure scalability?\n",
      " Interviewee: In my project on predicting financial trends using machine learning, I focused on applying NBEATS and NHITS models within the NeuralForecast framework to predict the price trend of NVDA stock. To enhance the model's insights, I integrated exogenous variables like market trends, economic indicators, and industry news. These helped provide a richer context for the forecasts. I used Python libraries such as pandas and NumPy for statistical inference, which streamlined the training, testing, and forecasting processes. The models demonstrated remarkable accuracy, even in volatile markets. For visualization, I utilized the plotly package to effectively communicate data trends.\n",
      "\n",
      "However, ensuring scalability was a challenge due to the computational costs and model complexity, which made real-time forecasting difficult. This is an area I am keen to improve upon in future projects.\n",
      " Interviewer: Can you describe a specific instance where you collaborated with an engineering team to implement a model prototype into a production system? What challenges did you face, and how did you address them?\n",
      " Interviewee: While I have experience developing forecasting models, my direct collaboration with engineering teams for implementing model prototypes into production systems is limited. My project primarily focused on building and fine-tuning models like NBEATS and NHITS to predict financial trends. During this process, I encountered challenges related to computational costs and model complexity, which highlighted areas where close collaboration with engineering teams would be beneficial for addressing scalability and deployment issues. Moving forward, I am eager to work closely with engineering teams to enhance my skills in implementing scalable solutions.\n",
      " Interviewer: Can you elaborate on your experience with time series modeling and causal inference, particularly how you've applied these techniques in forecasting applications?\n",
      " Interviewee: In my project on predicting financial trends using machine learning, I applied time series modeling techniques by using the NBEATS and NHITS models within the NeuralForecast framework. These models are designed specifically for time series forecasting, allowing me to effectively predict the price trends of NVDA stock. I integrated exogenous variables such as market trends, economic indicators, and industry news, which provided valuable context and enriched the insights generated by the models.\n",
      "\n",
      "While my experience in causal inference is more limited, I applied statistical inference using Python libraries like pandas and NumPy to analyze the impact of various factors on the financial trends I was forecasting. This approach helped streamline the training, testing, and forecasting processes, enhancing the model's accuracy, even in volatile market conditions.\n",
      "\n",
      "I recognize the importance of understanding causal relationships in improving forecasting models and am keen to deepen my expertise in this area through future projects and collaborations.\n",
      " Interviewer: Could you discuss any experience you have working with statistical measures, such as confidence intervals or significance of error measurements, particularly in the context of evaluating your forecasting models? How did these measures impact your model development process?\n",
      " Interviewee: In my project on predicting financial trends using machine learning, I utilized statistical measures to evaluate and enhance the performance of the forecasting models. While I'm confident in my background in statistics, familiar with concepts like likelihood and probability distributions, my approach focused on statistical inference using Python libraries such as pandas and NumPy. These tools enabled me to perform essential data analysis and visualize the results effectively.\n",
      "\n",
      "The use of statistical measures like confidence intervals and error significance helped in quantifying the uncertainty associated with the model's predictions and guided the model development process by highlighting areas for improvement. Although my direct application of these specific measures might not have been extensive, they formed an underlying framework that informed the adjustments and fine-tuning of the models to ensure accuracy and reliability in predictions.\n",
      "\n",
      "Going forward, I'm enthusiastic about deepening my expertise in applying these statistical measures more comprehensively to further improve model evaluation and development processes.\n",
      " Interviewer: Can you discuss your experience using scripting languages like Perl or Python in your previous projects, particularly in the context of data extraction and model development? How did these tools aid in handling large and complex datasets?\n",
      " Interviewee: In my projects, I've primarily utilized Python as a scripting language for both data extraction and model development, especially in the context of handling large and complex datasets. Python's robust libraries, such as pandas and NumPy, have been instrumental in facilitating data manipulation and statistical analysis. These tools allowed me to streamline the data preprocessing tasks and efficiently manage large datasets by offering functionalities for data cleaning, transformation, and integration of exogenous variables.\n",
      "\n",
      "In my experience with predicting financial trends using machine learning, Python helped in building and fine-tuning models like NBEATS and NHITS, as it offers excellent support for machine learning frameworks like TensorFlow and PyTorch. Although my direct experience with Perl is limited, Python's versatility and powerful libraries made it my go-to language for implementing and experimenting with various data-driven models. This not only accelerated the development process but also enhanced the accuracy and reliability of the forecasts generated from complex datasets.\n",
      " Interviewer: Can you tell me about any experience you have had working in a machine learning or data scientist role at a large technology company? How did this experience shape your approach to developing and deploying forecasting models?\n",
      " Interviewee: As of now, my experience in a machine learning or data scientist role at a large technology company is limited. My primary hands-on experience comes from academic projects, such as my final project on predicting financial trends using machine learning. This project allowed me to apply state-of-the-art models like NBEATS and NHITS within the NeuralForecast framework and gain valuable insights into the challenges of model development and deployment.\n",
      "\n",
      "Working on this project has taught me the importance of integrating exogenous variables and performing statistical inference to enhance model insights. It also highlighted the need for scalability and effective data handling, which would be crucial in a larger corporate environment. I'm eager to expand my experience in a professional setting and collaborate with engineering teams to tackle real-world challenges, which I believe will significantly shape and enhance my approach to developing and deploying forecasting models in the future.\n",
      " Interviewer: Could you elaborate on how you integrated exogenous variables in your financial trend forecasting project? Specifically, what challenges did you face in selecting and incorporating these variables, and how did they contribute to the model's accuracy and insights?\n",
      " Interviewee: In my financial trend forecasting project, integrating exogenous variables was a crucial step to enhance the model's insights. I incorporated variables such as market trends, economic indicators, and industry news, which provided additional context to the predictions made by the NBEATS and NHITS models within the NeuralForecast framework. These exogenous variables helped in capturing external influences that could impact the price trends of NVDA stock.\n",
      "\n",
      "One of the challenges I faced was the selection of relevant exogenous variables. It was important to identify variables that not only had a potential impact on stock prices but were also available in a timely manner for integration into the forecasting models. I had to carefully evaluate the relevance and availability of these variables and determine how to incorporate them without overwhelming the model with noise.\n",
      "\n",
      "Despite these challenges, the integration of exogenous variables significantly contributed to the model's accuracy and insights. They enriched the forecasts by providing a broader perspective on potential influences, thereby allowing the model to account for more factors than purely historical data. This approach ultimately led to better-informed predictions, even in volatile market conditions.\n",
      " Interviewer: You mentioned the importance of scalability and efficient data handling in your projects. Can you discuss specific strategies or techniques you plan to use in future projects to address scalability challenges, particularly in real-time forecasting?\n",
      " Interviewee: In future projects, addressing scalability challenges, especially in real-time forecasting, will be a priority. One strategy I plan to explore is optimizing the computational efficiency of the models. This can involve simplifying model architectures without compromising accuracy, or experimenting with more efficient algorithms that can handle large datasets more gracefully.\n",
      "\n",
      "I would also consider the integration of more advanced data processing frameworks. While my current experience with modern batch processing and streaming systems like Spark and Flink is limited, I recognize their potential in managing large-scale data more effectively. Engaging with engineering teams to explore these tools could greatly enhance data handling capabilities.\n",
      "\n",
      "Another approach would be focusing on efficient data pipeline design, ensuring that data extraction, transformation, and loading (ETL) processes are streamlined to minimize latency. This could involve leveraging SQL and enhancing my understanding of data warehousing principles to better organize and access data.\n",
      "\n",
      "Ultimately, close collaboration with engineering teams will be key. Their expertise can help refine these strategies and ensure the implementation of scalable solutions that meet the demands of real-time forecasting.\n",
      " Interviewer: You mentioned your eagerness to collaborate with engineering teams in the future. Could you elaborate on how you envision this collaboration enhancing your skills in implementing scalable solutions for forecasting models?\n",
      " Interviewee: Collaborating with engineering teams is an exciting prospect for me because it offers a chance to address some of the challenges I've faced, such as scalability and model deployment. In working closely with engineers, I can gain insights into efficient system design and learn about the technical aspects of deploying models in production environments. This collaboration would also allow me to understand better the operational challenges and constraints that come with implementing forecasting models at scale.\n",
      "\n",
      "By engaging with engineering teams, I can learn how to leverage advanced data processing frameworks and improve data pipeline efficiency. Their expertise in handling large datasets and optimizing computational resources can significantly enhance the scalability of my models. Additionally, such collaboration would provide opportunities to refine my skills in data engineering and system architecture, ensuring that my forecasting models can be effectively integrated into real-time applications.\n",
      "\n",
      "Overall, this partnership can bridge the gap between theoretical model development and practical deployment, enabling me to develop more robust, scalable solutions for forecasting in dynamic environments.\n",
      " Interviewer: Can you discuss a specific example where you utilized Python's capabilities to enhance a model's scalability, particularly focusing on managing computational costs and handling large datasets?\n",
      " Interviewee: In my experience with Python, I've found it incredibly useful for enhancing a model's scalability, particularly when dealing with large datasets. For example, in my financial trend forecasting project, I used Python's robust libraries like pandas and NumPy to streamline data preprocessing tasks. These libraries facilitated efficient data manipulation and statistical analysis, which was crucial in managing large datasets and reducing computational costs.\n",
      "\n",
      "By leveraging Python's capabilities, I was able to perform data cleaning, transformation, and integration of exogenous variables in a more streamlined manner. This helped to ensure that the data fed into the models was both accurate and efficiently processed, which in turn contributed to the models' scalability. Although there were challenges with computational costs due to model complexity, Python provided the necessary tools to handle these tasks more effectively.\n",
      "\n",
      "Moving forward, I am keen to explore more advanced techniques and frameworks that could further enhance scalability, such as optimizing model architectures and collaborating with engineering teams to implement more efficient data handling strategies.\n"
     ]
    }
   ],
   "source": [
    "print(conv2.agent_b.hist_conv)"
   ]
  },
  {
   "cell_type": "code",
   "execution_count": null,
   "metadata": {},
   "outputs": [],
   "source": []
  },
  {
   "cell_type": "markdown",
   "metadata": {},
   "source": [
    "## buyer: startup cfo"
   ]
  },
  {
   "cell_type": "code",
   "execution_count": 15,
   "metadata": {},
   "outputs": [],
   "source": [
    "with open(\"../data/questionnaires/startup_cfo_normal_q.json\", \"r\") as f:\n",
    "    questionnaire = json.load(f)\n",
    "with open(\"../data/scripts/buyer/startup_cfo_normal.json\", \"r\") as f:\n",
    "    script = json.load(f)\n",
    "with open(\"../config/backbone/backbone_configs.json\", \"r\") as f:\n",
    "    backbone_configs = json.load(f)"
   ]
  },
  {
   "cell_type": "code",
   "execution_count": 16,
   "metadata": {},
   "outputs": [],
   "source": [
    "itr_num = 10\n",
    "a_params = script[\"Public\"]\n",
    "a_params[\"itr_num\"] = itr_num\n",
    "b_params = {\"script_path\":\"../data/scripts/buyer/startup_cfo_normal.json\",\n",
    "            \"role_a\":\"Salesperson\",\n",
    "            \"role_b\":\"Buyer\"}\n",
    "c_params = {\"role_a\":\"Salesperson\",\n",
    "            \"role_b\":\"Buyer\"}"
   ]
  },
  {
   "cell_type": "code",
   "execution_count": 18,
   "metadata": {},
   "outputs": [],
   "source": [
    "conv = conversation.Conversation(a_params, b_params, questionnaire, c_params, backbone_configs, itr_num, sce=\"b2b negotiation\",)"
   ]
  },
  {
   "cell_type": "code",
   "execution_count": 19,
   "metadata": {},
   "outputs": [
    {
     "name": "stderr",
     "output_type": "stream",
     "text": [
      "Iterative conversation: 100%|████████████████████████████████████████████████████████| 10/10 [00:41<00:00,  4.10s/it]\n"
     ]
    }
   ],
   "source": [
    "conv.run()"
   ]
  },
  {
   "cell_type": "code",
   "execution_count": 20,
   "metadata": {},
   "outputs": [
    {
     "name": "stderr",
     "output_type": "stream",
     "text": [
      "Answering questions: 100%|███████████████████████████████████████████████████████████| 10/10 [00:35<00:00,  3.58s/it]\n"
     ]
    },
    {
     "data": {
      "text/plain": [
       "{'acc': 0.8, 'answer_rate': 0.8}"
      ]
     },
     "execution_count": 20,
     "metadata": {},
     "output_type": "execute_result"
    }
   ],
   "source": [
    "conv.evaluate_performance()"
   ]
  },
  {
   "cell_type": "code",
   "execution_count": 21,
   "metadata": {},
   "outputs": [
    {
     "name": "stderr",
     "output_type": "stream",
     "text": [
      "Answering questions:  10%|██████                                                      | 1/10 [00:04<00:43,  4.83s/it]"
     ]
    },
    {
     "name": "stdout",
     "output_type": "stream",
     "text": [
      "retrieved: [\n",
      "    \"Additionally, managing compliance with financial regulations and understanding fintech-specific legal requirements are crucial for us.\",\n",
      "    \"We are particularly interested in finding cost-effective legal solutions that can scale with our growth while offering flexibility and clear value metrics.\",\n",
      "    \"We're very much inclined towards cost-effective solutions, and in this regard, I favor flexible engagement models.\",\n",
      "    \"This approach aligns well with our preference for clear value metrics, ensuring we understand exactly what we are getting for our investment.\",\n",
      "    \"Balancing cost efficiency while ensuring robust legal support is critical for us, especially as we navigate complex regulatory landscapes across multiple jurisdictions.\",\n",
      "    \"We prioritize implementing solutions that can seamlessly integrate with our existing infrastructure and provide comprehensive compliance monitoring across all markets we operate in.\",\n",
      "    \"Additionally, we assess the integration capabilities of these tools with our existing systems, ensuring they support seamless operations and do not disrupt our workflow.\",\n",
      "    \"Moreover, cost-effectiveness and the scalability of the solution are key factors, as they need to align with our budget management goals and accommodate our growth.\",\n",
      "    \"We also place a strong emphasis on cost-effectiveness, ensuring that any investments in scaling our compliance systems align with our budget management goals.\",\n",
      "    \"By prioritizing solutions that are both cost-effective and scalable, we've been able to align our compliance efforts with our overall growth objectives.\"\n",
      "]\n",
      "reason: The retrieved pieces emphasize the Buyer's focus on cost-effectiveness and scalability in legal services, indicating that these are primary concerns. This aligns with the Buyer's interest in flexible and scalable solutions that meet their budget management and growth objectives.\n",
      "answer: B\n"
     ]
    },
    {
     "name": "stderr",
     "output_type": "stream",
     "text": [
      "Answering questions:  20%|████████████                                                | 2/10 [00:07<00:29,  3.71s/it]"
     ]
    },
    {
     "name": "stdout",
     "output_type": "stream",
     "text": [
      "retrieved: [\n",
      "    \"Historically, we've focused on optimizing resource allocation to ensure maximum ROI.\",\n",
      "    \"We're very much inclined towards cost-effective solutions, and in this regard, I favor flexible engagement models.\",\n",
      "    \"For instance, hybrid billing models that balance hourly billing with retainer structures have proven effective for us, as they offer predictability in costs while still allowing for flexibility as our needs change.\",\n",
      "    \"This approach aligns well with our preference for clear value metrics, ensuring we understand exactly what we are getting for our investment.\"\n",
      "]\n",
      "reason: The retrieved pieces clearly indicate that the Buyer prefers a hybrid billing model, as they explicitly mention favoring flexible engagement models and hybrid billing models that balance hourly billing with retainer structures. This preference is due to the predictability in costs and flexibility they provide.\n",
      "answer: C\n"
     ]
    },
    {
     "name": "stderr",
     "output_type": "stream",
     "text": [
      "Answering questions:  30%|██████████████████                                          | 3/10 [00:12<00:28,  4.09s/it]"
     ]
    },
    {
     "name": "stdout",
     "output_type": "stream",
     "text": [
      "retrieved: [\n",
      "    \"Indeed, with our recent expansion into international markets like the UK, Singapore, and Germany, we've encountered a few legal challenges.\",\n",
      "    \"Primarily, we're focused on navigating cross-border regulatory compliance and ensuring our intellectual property rights are well-protected across these jurisdictions.\",\n",
      "    \"Furthermore, we assess the legal partner's ability to proactively manage risks and offer solutions that scale with our growth, particularly in new international markets.\",\n",
      "    \"At InnovateX, scaling our compliance systems as we expand into new markets is a critical aspect of our strategic planning.\",\n",
      "    \"Our approach to scalability focuses on ensuring that our systems are both robust and adaptable to meet the diverse regulatory requirements across different jurisdictions.\",\n",
      "    \"We prioritize implementing solutions that can seamlessly integrate with our existing infrastructure and provide comprehensive compliance monitoring across all markets we operate in.\"\n",
      "]\n",
      "reason: The retrieved relevant pieces indicate that InnovateX has recently expanded into international markets such as the UK, Singapore, and Germany, suggesting that the CFO has experience with global operations. However, the precise duration of this experience is not mentioned, which makes it difficult to confidently select between 2 years or 5+ years of experience.\n",
      "answer: None\n"
     ]
    },
    {
     "name": "stderr",
     "output_type": "stream",
     "text": [
      "Answering questions:  40%|████████████████████████                                    | 4/10 [00:14<00:18,  3.16s/it]"
     ]
    },
    {
     "name": "stdout",
     "output_type": "stream",
     "text": [
      "retrieved: [\"One of the success factors we've identified is the importance of a proactive risk management framework.\",\n",
      "\"By developing and continuously refining our risk assessment processes, we've been able to anticipate potential regulatory challenges and address them before they escalate.\"]\n",
      "reason: The retrieved pieces indicate that the Buyer emphasizes a proactive risk management framework, focusing on continuous risk assessment and mitigation before issues arise, which aligns with a systematic and proactive approach.\n",
      "answer: B\n"
     ]
    },
    {
     "name": "stderr",
     "output_type": "stream",
     "text": [
      "Answering questions:  50%|██████████████████████████████                              | 5/10 [00:17<00:16,  3.32s/it]"
     ]
    },
    {
     "name": "stdout",
     "output_type": "stream",
     "text": [
      "retrieved: [\n",
      "    \"Historically, we've focused on optimizing resource allocation to ensure maximum ROI.\",\n",
      "    \"We're very much inclined towards cost-effective solutions, and in this regard, I favor flexible engagement models.\",\n",
      "    \"For instance, hybrid billing models that balance hourly billing with retainer structures have proven effective for us, as they offer predictability in costs while still allowing for flexibility as our needs change.\",\n",
      "    \"This approach aligns well with our preference for clear value metrics, ensuring we understand exactly what we are getting for our investment.\",\n",
      "    \"Balancing cost efficiency while ensuring robust legal support is critical for us, especially as we navigate complex regulatory landscapes across multiple jurisdictions.\"\n",
      "]\n",
      "reason: The retrieved pieces indicate that the CFO of InnovateX has a strong focus on optimizing resource allocation to ensure maximum ROI, favors flexible engagement models, and emphasizes cost-effectiveness in their legal services approach. This aligns with option B, which emphasizes ROI and cost optimization.\n",
      "answer: B\n"
     ]
    },
    {
     "name": "stderr",
     "output_type": "stream",
     "text": [
      "Answering questions:  60%|████████████████████████████████████                        | 6/10 [00:21<00:14,  3.64s/it]"
     ]
    },
    {
     "name": "stdout",
     "output_type": "stream",
     "text": [
      "retrieved: [\n",
      "    \"Indeed, with our recent expansion into international markets like the UK, Singapore, and Germany, we've encountered a few legal challenges. Primarily, we're focused on navigating cross-border regulatory compliance and ensuring our intellectual property rights are well-protected across these jurisdictions.\",\n",
      "    \"Additionally, managing compliance with financial regulations and understanding fintech-specific legal requirements are crucial for us.\",\n",
      "    \"Furthermore, we look for innovative approaches that align with our emphasis on technology integration. For example, understanding the legal implications of AI implementation and data protection within the fintech space is paramount.\",\n",
      "    \"At InnovateX, scaling our compliance systems as we expand into new markets is a critical aspect of our strategic planning.\",\n",
      "    \"Our approach to scalability focuses on ensuring that our systems are both robust and adaptable to meet the diverse regulatory requirements across different jurisdictions.\",\n",
      "    \"By developing and continuously refining our risk assessment processes, we've been able to anticipate potential regulatory challenges and address them before they escalate.\",\n",
      "    \"Strategically, forming partnerships with legal experts who have a deep understanding of cross-border regulatory compliance has been invaluable.\",\n",
      "    \"These partnerships have provided us with the insights needed to navigate the complexities of diverse regulatory environments.\",\n",
      "    \"By prioritizing solutions that are both cost-effective and scalable, we've been able to align our compliance efforts with our overall growth objectives.\"\n",
      "]\n",
      "reason: The retrieved pieces indicate that the Buyer, who appears to be in a CFO role, demonstrates a moderate understanding of legal compliance, emphasizing the importance of regulatory compliance and the need for expert partnerships to navigate diverse environments. This suggests the Buyer relies on expert validation rather than possessing an expert-level understanding themselves.\n",
      "answer: B\n"
     ]
    },
    {
     "name": "stderr",
     "output_type": "stream",
     "text": [
      "Answering questions:  70%|██████████████████████████████████████████                  | 7/10 [00:25<00:10,  3.65s/it]"
     ]
    },
    {
     "name": "stdout",
     "output_type": "stream",
     "text": [
      "retrieved: [\n",
      "    \"We utilize a variety of legal tech solutions to enhance our operational efficiency and ensure robust compliance.\",\n",
      "    \"For instance, we are familiar with AI-driven tools that help with compliance monitoring and data protection, which are crucial for our fintech operations.\",\n",
      "    \"We are interested in platforms that offer comprehensive support, particularly those that can adapt to different jurisdictions and provide real-time insights into compliance challenges.\",\n",
      "    \"We also assess the integration capabilities of these tools with our existing systems, ensuring they support seamless operations and do not disrupt our workflow.\",\n",
      "    \"The ability of a tool to offer clear and actionable insights, particularly in the realm of AI governance and data protection, is essential, as it aligns with our fintech operations and strategic objectives.\"\n",
      "]\n",
      "reason: The retrieved pieces indicate that the Buyer places a high value on technology integration, specifically using advanced tools for compliance monitoring and data protection, which are crucial for their operations. This shows high confidence in technology and understanding of its legal implications.\n",
      "answer: B\n"
     ]
    },
    {
     "name": "stderr",
     "output_type": "stream",
     "text": [
      "Answering questions:  80%|████████████████████████████████████████████████            | 8/10 [00:28<00:06,  3.35s/it]"
     ]
    },
    {
     "name": "stdout",
     "output_type": "stream",
     "text": [
      "retrieved: [\n",
      "    \"We're very much inclined towards cost-effective solutions, and in this regard, I favor flexible engagement models.\",\n",
      "    \"For instance, hybrid billing models that balance hourly billing with retainer structures have proven effective for us, as they offer predictability in costs while still allowing for flexibility as our needs change.\",\n",
      "    \"This approach aligns well with our preference for clear value metrics, ensuring we understand exactly what we are getting for our investment.\",\n",
      "    \"Balancing cost efficiency while ensuring robust legal support is critical for us, especially as we navigate complex regulatory landscapes across multiple jurisdictions.\"\n",
      "]\n",
      "reason: The retrieved pieces indicate a preference for cost-effective and flexible engagement models with a focus on clear value metrics, suggesting a pragmatic approach to negotiating service terms.\n",
      "answer: B\n"
     ]
    },
    {
     "name": "stderr",
     "output_type": "stream",
     "text": [
      "Answering questions:  90%|██████████████████████████████████████████████████████      | 9/10 [00:30<00:03,  3.01s/it]"
     ]
    },
    {
     "name": "stdout",
     "output_type": "stream",
     "text": [
      "retrieved: [\n",
      "    \"Indeed, with our recent expansion into international markets like the UK, Singapore, and Germany, we've encountered a few legal challenges.\",\n",
      "    \"Primarily, we're focused on navigating cross-border regulatory compliance and ensuring our intellectual property rights are well-protected across these jurisdictions.\",\n",
      "    \"Managing compliance with financial regulations and understanding fintech-specific legal requirements are crucial for us.\"\n",
      "]\n",
      "reason: The retrieved pieces indicate that the Buyer emphasized cross-border compliance challenges, mentioning their focus on navigating regulatory compliance and intellectual property protection across international markets. This suggests a clear connection between international expansion and legal needs.\n",
      "answer: B\n"
     ]
    },
    {
     "name": "stderr",
     "output_type": "stream",
     "text": [
      "Answering questions: 100%|███████████████████████████████████████████████████████████| 10/10 [00:31<00:00,  3.20s/it]"
     ]
    },
    {
     "name": "stdout",
     "output_type": "stream",
     "text": [
      "retrieved: []\n",
      "reason: The retrieved relevant pieces do not contain any information regarding the priority level given by the CFO to IP protection, making it impossible to determine the correct answer from the multiple-choice options.\n",
      "answer: None\n"
     ]
    },
    {
     "name": "stderr",
     "output_type": "stream",
     "text": [
      "\n"
     ]
    },
    {
     "data": {
      "text/plain": [
       "['B', 'C', 'None', 'B', 'B', 'B', 'B', 'B', 'B', 'None']"
      ]
     },
     "execution_count": 21,
     "metadata": {},
     "output_type": "execute_result"
    }
   ],
   "source": [
    "conv.agent_c.answer_all(debug=True)"
   ]
  },
  {
   "cell_type": "markdown",
   "metadata": {},
   "source": [
    "## guest: climate activist"
   ]
  },
  {
   "cell_type": "code",
   "execution_count": 23,
   "metadata": {},
   "outputs": [],
   "source": [
    "with open(\"../data/questionnaires/climate_activist_normal_q.json\", \"r\") as f:\n",
    "    questionnaire = json.load(f)\n",
    "with open(\"../data/scripts/guest/climate_activist_normal.json\", \"r\") as f:\n",
    "    script = json.load(f)\n",
    "with open(\"../config/backbone/backbone_configs.json\", \"r\") as f:\n",
    "    backbone_configs = json.load(f)"
   ]
  },
  {
   "cell_type": "code",
   "execution_count": 24,
   "metadata": {},
   "outputs": [],
   "source": [
    "itr_num = 10\n",
    "a_params = script[\"Public\"]\n",
    "a_params[\"itr_num\"] = itr_num\n",
    "b_params = {\"script_path\":\"../data/scripts/guest/climate_activist_normal.json\",\n",
    "            \"role_a\":\"Host\",\n",
    "            \"role_b\":\"Guest\"}\n",
    "c_params = {\"role_a\":\"Host\",\n",
    "            \"role_b\":\"Guest\"}"
   ]
  },
  {
   "cell_type": "code",
   "execution_count": 25,
   "metadata": {},
   "outputs": [],
   "source": [
    "conv = conversation.Conversation(a_params, b_params, questionnaire, c_params, backbone_configs, itr_num, sce=\"podcast interview\",)"
   ]
  },
  {
   "cell_type": "code",
   "execution_count": 26,
   "metadata": {},
   "outputs": [
    {
     "name": "stderr",
     "output_type": "stream",
     "text": [
      "Iterative conversation: 100%|████████████████████████████████████████████████████████| 10/10 [00:44<00:00,  4.43s/it]\n"
     ]
    }
   ],
   "source": [
    "conv.run()"
   ]
  },
  {
   "cell_type": "code",
   "execution_count": 27,
   "metadata": {},
   "outputs": [
    {
     "name": "stderr",
     "output_type": "stream",
     "text": [
      "Answering questions: 100%|███████████████████████████████████████████████████████████| 10/10 [00:34<00:00,  3.40s/it]\n"
     ]
    },
    {
     "data": {
      "text/plain": [
       "{'acc': 0.9, 'answer_rate': 0.9}"
      ]
     },
     "execution_count": 27,
     "metadata": {},
     "output_type": "execute_result"
    }
   ],
   "source": [
    "conv.evaluate_performance()"
   ]
  },
  {
   "cell_type": "code",
   "execution_count": 28,
   "metadata": {},
   "outputs": [
    {
     "name": "stderr",
     "output_type": "stream",
     "text": [
      "Answering questions:  10%|██████                                                      | 1/10 [00:03<00:34,  3.78s/it]"
     ]
    },
    {
     "name": "stdout",
     "output_type": "stream",
     "text": [
      "retrieved: [\n",
      "    \"Activism plays a crucial role in holding corporations accountable and pushing them towards more sustainable practices.\",\n",
      "    \"By critiquing greenwashing and demanding transparency, activists can pressure companies to genuinely commit to reducing their environmental impact.\",\n",
      "    \"A notable example is the increase in corporate commitments to net-zero emissions, which has been accelerated by public pressure and campaigns.\",\n",
      "    \"This symbiotic relationship between personal advocacy and corporate responsibility can drive significant change, ultimately leading to a more sustainable future.\",\n",
      "    \"Individual actions, like making conscious consumer choices or reducing personal carbon footprints, play a significant role in complementing broader corporate sustainability initiatives.\",\n",
      "    \"When individuals come together to advocate for corporate transparency and responsibility, it sends a powerful message that sustainable practices are not just preferred, but expected.\"\n",
      "]\n",
      "reason: The retrieved pieces highlight that the activist believes in holding corporations accountable and pushing them towards sustainable practices through activism. They emphasize the importance of critiquing greenwashing, demanding transparency, and increasing corporate commitments under public pressure, suggesting that corporations must be held legally accountable for their environmental impact.\n",
      "answer: B\n"
     ]
    },
    {
     "name": "stderr",
     "output_type": "stream",
     "text": [
      "Answering questions:  20%|████████████                                                | 2/10 [00:06<00:25,  3.15s/it]"
     ]
    },
    {
     "name": "stdout",
     "output_type": "stream",
     "text": [
      "retrieved: [\n",
      "    \"Another critical issue is the impact on marginalized communities. Climate justice is fundamental because those who are least responsible for emissions often face the greatest consequences.\",\n",
      "    \"This diversity is not just beneficial but necessary, as it brings in varied perspectives and innovative solutions to the table, particularly when addressing issues of climate justice and corporate responsibility.\",\n",
      "    \"Over the next decade, I hope to witness an even greater emphasis on climate justice, ensuring that solutions are equitable and prioritize those most affected by environmental challenges.\"\n",
      "]\n",
      "reason: The retrieved pieces indicate that the activist considers climate justice fundamental, highlighting its importance in addressing environmental challenges and ensuring equitable solutions for marginalized communities. Thus, it is fundamentally linked to environmental activism.\n",
      "answer: B\n"
     ]
    },
    {
     "name": "stderr",
     "output_type": "stream",
     "text": [
      "Answering questions:  30%|██████████████████                                          | 3/10 [00:09<00:20,  2.91s/it]"
     ]
    },
    {
     "name": "stdout",
     "output_type": "stream",
     "text": [
      "retrieved: [\"Activism is indeed pivotal in shaping climate policy, and I've found that a combination of strategies works best in engaging policymakers. First and foremost, public speaking and direct action are powerful tools.\",\n",
      "\"Additionally, direct actions, such as protests or sit-ins, can draw attention to the urgency of the issues we face and demonstrate the public's demand for action.\"]\n",
      "reason: The retrieved pieces indicate that the activist sees direct actions like protests and sit-ins as powerful tools to engage policymakers and draw attention to issues. These actions imply a belief in peaceful civil disobedience rather than aggressive confrontation.\n",
      "answer: C\n"
     ]
    },
    {
     "name": "stderr",
     "output_type": "stream",
     "text": [
      "Answering questions:  40%|████████████████████████                                    | 4/10 [00:11<00:15,  2.55s/it]"
     ]
    },
    {
     "name": "stdout",
     "output_type": "stream",
     "text": [
      "retrieved: [\"By critiquing greenwashing and demanding transparency, activists can pressure companies to genuinely commit to reducing their environmental impact.\"]\n",
      "reason: The retrieved pieces show that the activist critiqued greenwashing and demanded transparency from corporations, which indicates a strong criticism of deceptive environmental marketing practices.\n",
      "answer: B\n"
     ]
    },
    {
     "name": "stderr",
     "output_type": "stream",
     "text": [
      "Answering questions:  50%|██████████████████████████████                              | 5/10 [00:14<00:13,  2.77s/it]"
     ]
    },
    {
     "name": "stdout",
     "output_type": "stream",
     "text": [
      "retrieved: [\n",
      "    \"Another critical issue is the impact on marginalized communities.\",\n",
      "    \"Climate justice is fundamental because those who are least responsible for emissions often face the greatest consequences.\",\n",
      "    \"It's about moving beyond just the technical details to include discussions on the social implications and justice aspects of climate change.\",\n",
      "    \"This diversity is not just beneficial but necessary, as it brings in varied perspectives and innovative solutions to the table, particularly when addressing issues of climate justice and corporate responsibility.\"\n",
      "]\n",
      "reason: The retrieved pieces indicate that the activist connects climate change to social issues by emphasizing the impact on marginalized communities and highlighting the importance of climate justice. This approach shows that the activist sees social implications as integral to the environmental movement.\n",
      "answer: B\n"
     ]
    },
    {
     "name": "stderr",
     "output_type": "stream",
     "text": [
      "Answering questions:  60%|████████████████████████████████████                        | 6/10 [00:18<00:12,  3.14s/it]"
     ]
    },
    {
     "name": "stdout",
     "output_type": "stream",
     "text": [
      "retrieved: [\n",
      "    \"Activism is indeed pivotal in shaping climate policy, and I've found that a combination of strategies works best in engaging policymakers.\",\n",
      "    \"First and foremost, public speaking and direct action are powerful tools.\",\n",
      "    \"Moreover, building coalitions and engaging communities are crucial for translating grassroots momentum into policy changes.\",\n",
      "    \"Navigating these challenges requires persistence and adaptability, as the political landscape can be complex.\",\n",
      "    \"This experience reinforced the idea that local actions can have a significant impact on broader climate policy, and it underlined the necessity of including diverse community voices in the conversation.\",\n",
      "    \"The key will be to maintain the momentum we've built, leveraging the power of grassroots movements to hold corporations and governments accountable while advocating for bold, decisive policy changes.\"\n",
      "]\n",
      "reason: The retrieved pieces show that the activist has a nuanced understanding of current climate policies. The activist emphasizes the importance of activism in shaping policy, building coalitions, and maintaining momentum to advocate for stronger policy changes.\n",
      "answer: B\n"
     ]
    },
    {
     "name": "stderr",
     "output_type": "stream",
     "text": [
      "Answering questions:  70%|██████████████████████████████████████████                  | 7/10 [00:21<00:09,  3.26s/it]"
     ]
    },
    {
     "name": "stdout",
     "output_type": "stream",
     "text": [
      "retrieved: [\n",
      "    \"Moreover, building coalitions and engaging communities are crucial for translating grassroots momentum into policy changes.\",\n",
      "    \"By fostering strong relationships with local organizations and running community workshops, we create a unified voice that is hard for policymakers to ignore.\",\n",
      "    \"This experience reinforced the idea that local actions can have a significant impact on broader climate policy, and it underlined the necessity of including diverse community voices in the conversation.\",\n",
      "    \"It's crucial to keep the pressure on through consistent actions and engagement.\",\n",
      "    \"Engaging with diverse communities and fostering partnerships amplifies our voices and strengthens our collective efforts.\",\n",
      "    \"By nurturing this collective consciousness, we prepare the next generation not just to tackle environmental challenges but to lead the way in solving them.\"\n",
      "]\n",
      "reason: The retrieved pieces emphasize the importance of community engagement in climate action, highlighting its role in translating grassroots momentum into policy changes and strengthening collective efforts, indicating that community engagement is central to effective climate advocacy.\n",
      "answer: B\n"
     ]
    },
    {
     "name": "stderr",
     "output_type": "stream",
     "text": [
      "Answering questions:  80%|████████████████████████████████████████████████            | 8/10 [00:24<00:06,  3.06s/it]"
     ]
    },
    {
     "name": "stdout",
     "output_type": "stream",
     "text": [
      "retrieved: [\n",
      "    \"Climate justice is fundamental because those who are least responsible for emissions often face the greatest consequences.\",\n",
      "    \"Activism plays a crucial role in holding corporations accountable and pushing them towards more sustainable practices.\",\n",
      "    \"Moreover, building coalitions and engaging communities are crucial for translating grassroots momentum into policy changes.\",\n",
      "    \"The tangible impact was evident when many of these students went on to organize their own environmental initiatives, from advocating for campus sustainability measures to participating in local climate strikes.\",\n",
      "    \"For those just beginning their journey in environmental activism, I'd encourage you to remain hopeful and resilient.\"\n",
      "]\n",
      "reason: The retrieved pieces show that the Guest considers climate justice as fundamental, highlighting the disproportionate impact on marginalized communities and the role of activism in holding entities accountable. This indicates a firm belief in the importance of climate justice issues.\n",
      "answer: C\n"
     ]
    },
    {
     "name": "stderr",
     "output_type": "stream",
     "text": [
      "Answering questions:  90%|██████████████████████████████████████████████████████      | 9/10 [00:32<00:04,  4.65s/it]"
     ]
    },
    {
     "name": "stdout",
     "output_type": "stream",
     "text": [
      "retrieved: [\n",
      "    \"The fundamentals of climate science make it clear: the greenhouse effect and carbon emissions are driving global warming, and urgent action is needed.\",\n",
      "    \"Moreover, building coalitions and engaging communities are crucial for translating grassroots momentum into policy changes.\",\n",
      "    \"By fostering strong relationships with local organizations and running community workshops, we create a unified voice that is hard for policymakers to ignore.\",\n",
      "    \"By equipping students with a strong understanding of the fundamentals of climate change, such as the greenhouse effect and carbon cycle, we can ensure they have the knowledge needed to make informed decisions and advocate for change.\",\n",
      "    \"Through these workshops, students were not only taught about the greenhouse effect and carbon cycle but were also encouraged to explore solutions and engage in discussions about corporate responsibility and climate justice.\",\n",
      "    \"Understanding the basics, like the greenhouse effect and the importance of climate justice, will give you the foundation needed to engage meaningfully in the movement.\"\n",
      "]\n",
      "reason: The retrieved pieces indicate that the activist uses their scientific knowledge of climate change, such as understanding the greenhouse effect and carbon cycle, to inform their advocacy and educate others, demonstrating a clear connection between scientific understanding and activism.\n",
      "answer: B\n"
     ]
    },
    {
     "name": "stderr",
     "output_type": "stream",
     "text": [
      "Answering questions: 100%|███████████████████████████████████████████████████████████| 10/10 [00:33<00:00,  3.35s/it]"
     ]
    },
    {
     "name": "stdout",
     "output_type": "stream",
     "text": [
      "retrieved: []\n",
      "reason: The retrieved relevant pieces do not contain any information about the activist's perspective on the relationship between environmental and indigenous issues, making it impossible to determine the correct answer from the multiple-choice options.\n",
      "answer: None\n"
     ]
    },
    {
     "name": "stderr",
     "output_type": "stream",
     "text": [
      "\n"
     ]
    },
    {
     "data": {
      "text/plain": [
       "['B', 'B', 'C', 'B', 'B', 'B', 'B', 'C', 'B', 'None']"
      ]
     },
     "execution_count": 28,
     "metadata": {},
     "output_type": "execute_result"
    }
   ],
   "source": [
    "conv.agent_c.answer_all(debug=True)"
   ]
  },
  {
   "cell_type": "code",
   "execution_count": null,
   "metadata": {},
   "outputs": [],
   "source": []
  }
 ],
 "metadata": {
  "kernelspec": {
   "display_name": "Python 3 (ipykernel)",
   "language": "python",
   "name": "python3"
  },
  "language_info": {
   "codemirror_mode": {
    "name": "ipython",
    "version": 3
   },
   "file_extension": ".py",
   "mimetype": "text/x-python",
   "name": "python",
   "nbconvert_exporter": "python",
   "pygments_lexer": "ipython3",
   "version": "3.8.16"
  }
 },
 "nbformat": 4,
 "nbformat_minor": 4
}
