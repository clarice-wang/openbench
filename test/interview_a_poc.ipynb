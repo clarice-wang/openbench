{
 "cells": [
  {
   "cell_type": "code",
   "execution_count": 1,
   "id": "75f2a78d-d15a-4558-bb06-6de7a71b959d",
   "metadata": {},
   "outputs": [],
   "source": [
    "import sys\n",
    "import os\n",
    "sys.path.append('../src/')\n",
    "import importlib\n",
    "\n",
    "from dotenv import load_dotenv\n",
    "load_dotenv()\n",
    "\n",
    "from openai import OpenAI\n",
    "\n",
    "import oracle\n",
    "import agent_a\n",
    "import agent_c\n",
    "from prompts import *\n",
    "import prompts"
   ]
  },
  {
   "cell_type": "code",
   "execution_count": 2,
   "id": "53921683-6c58-4a76-a979-357e8d62973d",
   "metadata": {},
   "outputs": [
    {
     "data": {
      "text/plain": [
       "<module 'prompts' from '/Users/claricewang/Downloads/nus-avary/interviews/test/../src/prompts.py'>"
      ]
     },
     "execution_count": 2,
     "metadata": {},
     "output_type": "execute_result"
    }
   ],
   "source": [
    "importlib.reload(agent_c)\n",
    "importlib.reload(prompts)"
   ]
  },
  {
   "cell_type": "code",
   "execution_count": 3,
   "id": "76e77806-a0a1-4cba-a196-b5d6771a61ae",
   "metadata": {},
   "outputs": [],
   "source": [
    "OPENAI_API_KEY = os.getenv(\"OPENAI_API_KEY\")\n",
    "client = OpenAI(api_key=OPENAI_API_KEY)"
   ]
  },
  {
   "cell_type": "markdown",
   "id": "f4bf8452-aa17-4b39-88ee-a2673fca4adb",
   "metadata": {
    "jp-MarkdownHeadingCollapsed": true
   },
   "source": [
    "## gpt4o"
   ]
  },
  {
   "cell_type": "code",
   "execution_count": 7,
   "id": "847b2e4d-af92-4a82-916c-33b487657d2f",
   "metadata": {},
   "outputs": [],
   "source": [
    "agent_a = oracle.Oracle('gpt-4o')"
   ]
  },
  {
   "cell_type": "code",
   "execution_count": 8,
   "id": "0dc14b8e-a55e-499d-b31d-3474cfc8829e",
   "metadata": {},
   "outputs": [
    {
     "data": {
      "text/plain": [
       "{'query': 'how are you today?',\n",
       " 'answer': \"I'm just a computer program, so I don't have feelings, but I'm here and ready to help you. How can I assist you today?\"}"
      ]
     },
     "execution_count": 8,
     "metadata": {},
     "output_type": "execute_result"
    }
   ],
   "source": [
    "agent_a.query('you are a professional interviewer agent','how are you today?')"
   ]
  },
  {
   "cell_type": "code",
   "execution_count": 44,
   "id": "d26b20dd-a70f-4489-8ef7-b3adaa1f908a",
   "metadata": {},
   "outputs": [],
   "source": [
    "def update_hist_conv(hist_conv, last_q, last_a):\n",
    "    curr = hist_conv if hist_conv != \"empty\" else \"\"\n",
    "    return curr + \"\\n Interviewer: \" + last_q + \"\\n Interviewee:\" + last_a"
   ]
  },
  {
   "cell_type": "code",
   "execution_count": 51,
   "id": "71227485-f9fc-477a-906a-655440c0c186",
   "metadata": {},
   "outputs": [],
   "source": [
    "area_ = \"IT & web\"\n",
    "position_ = \"Research Intern - Algorithms Group: Reasoning Abilities of LLMs\"\n",
    "aspects_ = \"\"\"\n",
    "Required Qualifications\n",
    "Currently enrolled in a master's or PhD program in Computer Science, Mathematics, Electrical Engineering, or a related STEM field.  \n",
    "Other Requirements\n",
    "\n",
    "Research Interns are expected to be physically located in their manager’s Microsoft worksite location for the duration of their internship.\n",
    "In addition to the qualifications below, you’ll need to submit a minimum of two reference letters for this position as well as a cover letter and any relevant work or research samples. After you submit your application, a request for letters may be sent to your list of references on your behalf. Note that reference letters cannot be requested until after you have submitted your application, and furthermore, that they might not be automatically requested for all candidates. You may wish to alert your letter writers in advance, so they will be ready to submit your letter. \n",
    "Preferred Qualifications\n",
    "Some publications at top ML conferences (NeurIPS, ICML, ICLR, etc.) or top journals.\n",
    "Hands on expertise in training LLMs using PyTorch, TensorFlow, JAX.\n",
    "Hands on experience in doing RL training such as those found in RLHF pipelines or games such as Go.\n",
    "\"\"\"\n",
    "# hist_conv_=\"empty\"\n",
    "itr_num_ = 3"
   ]
  },
  {
   "cell_type": "code",
   "execution_count": 52,
   "id": "2c37f38b-406e-4c69-b420-726129152574",
   "metadata": {},
   "outputs": [
    {
     "name": "stdin",
     "output_type": "stream",
     "text": [
      "Can you describe your current research focus in your master's or PhD program and how it aligns with the reasoning abilities of large language models? nus cs phd. we applied llm to reason the e-commerce customer personas.\n"
     ]
    },
    {
     "name": "stdout",
     "output_type": "stream",
     "text": [
      "\n",
      " Interviewer: Can you describe your current research focus in your master's or PhD program and how it aligns with the reasoning abilities of large language models?\n",
      " Interviewee:nus cs phd. we applied llm to reason the e-commerce customer personas.\n"
     ]
    },
    {
     "name": "stdin",
     "output_type": "stream",
     "text": [
      "\n",
      "Could you share any experience you have with training large language models using frameworks like PyTorch, TensorFlow, or JAX? yes pytorch.\n"
     ]
    },
    {
     "name": "stdout",
     "output_type": "stream",
     "text": [
      "\n",
      " Interviewer: Can you describe your current research focus in your master's or PhD program and how it aligns with the reasoning abilities of large language models?\n",
      " Interviewee:nus cs phd. we applied llm to reason the e-commerce customer personas.\n",
      " Interviewer: \n",
      "Could you share any experience you have with training large language models using frameworks like PyTorch, TensorFlow, or JAX?\n",
      " Interviewee:yes pytorch.\n"
     ]
    },
    {
     "name": "stdin",
     "output_type": "stream",
     "text": [
      "\n",
      "Can you elaborate on any work you have done involving reinforcement learning training, particularly in areas like RLHF pipelines or games like Go? yes correct.\n"
     ]
    },
    {
     "name": "stdout",
     "output_type": "stream",
     "text": [
      "\n",
      " Interviewer: Can you describe your current research focus in your master's or PhD program and how it aligns with the reasoning abilities of large language models?\n",
      " Interviewee:nus cs phd. we applied llm to reason the e-commerce customer personas.\n",
      " Interviewer: \n",
      "Could you share any experience you have with training large language models using frameworks like PyTorch, TensorFlow, or JAX?\n",
      " Interviewee:yes pytorch.\n",
      " Interviewer: \n",
      "Can you elaborate on any work you have done involving reinforcement learning training, particularly in areas like RLHF pipelines or games like Go?\n",
      " Interviewee:yes correct.\n"
     ]
    }
   ],
   "source": [
    "hist_conv_=\"empty\"\n",
    "prompt_sys_ass = prompts.AGENT_A_INTERVIEW_SYS.format(area=area_)\n",
    "for i in range(itr_num_):\n",
    "    prompt_user_ass = prompts.AGENT_A_INTERVIEW_USR.format(position=position_, aspects=aspects_,\n",
    "                                                           hist_conv=hist_conv_, itr_num=itr_num_,\n",
    "                                                           itr_left=itr_num_-i, itr_index=i,)\n",
    "    new_q = agent_a.query(prompt_sys_ass, prompt_user_ass)['answer']\n",
    "    new_a = input(new_q)\n",
    "    hist_conv_ = update_hist_conv(hist_conv_, new_q, new_a)\n",
    "    print(hist_conv_)"
   ]
  },
  {
   "cell_type": "markdown",
   "id": "cb35c9df-6c0e-4309-bcaa-d0ca6963e5bf",
   "metadata": {
    "jp-MarkdownHeadingCollapsed": true
   },
   "source": [
    "## gpt4o-mini"
   ]
  },
  {
   "cell_type": "code",
   "execution_count": 39,
   "id": "f2785280-7fc3-47fb-99ea-2e56b4fe9fe6",
   "metadata": {},
   "outputs": [],
   "source": [
    "agent_a2 = oracle.Oracle('gpt-4o-mini')"
   ]
  },
  {
   "cell_type": "code",
   "execution_count": 40,
   "id": "37709f93-106d-491b-85ff-46c1edb1f5b6",
   "metadata": {},
   "outputs": [
    {
     "data": {
      "text/plain": [
       "{'query': 'how are you today?',\n",
       " 'answer': \"I'm just a program, so I don't have feelings, but I'm here and ready to assist you! How can I help you today?\"}"
      ]
     },
     "execution_count": 40,
     "metadata": {},
     "output_type": "execute_result"
    }
   ],
   "source": [
    "agent_a2.query('you are a professional interviewer agent','how are you today?')"
   ]
  },
  {
   "cell_type": "code",
   "execution_count": 53,
   "id": "e36ed733-8925-4cd4-888c-1b6f93dddfd8",
   "metadata": {},
   "outputs": [
    {
     "name": "stdin",
     "output_type": "stream",
     "text": [
      "Can you tell me about your current research or coursework in your master's or PhD program that relates to algorithms, particularly in the context of large language models? nus cs phd. we applied llm to reason the e-commerce customer personas.\n"
     ]
    },
    {
     "name": "stdout",
     "output_type": "stream",
     "text": [
      "\n",
      " Interviewer: Can you tell me about your current research or coursework in your master's or PhD program that relates to algorithms, particularly in the context of large language models?\n",
      " Interviewee:nus cs phd. we applied llm to reason the e-commerce customer personas.\n"
     ]
    },
    {
     "name": "stdin",
     "output_type": "stream",
     "text": [
      "Interviewer: That's fascinating! Could you elaborate on any specific methodologies or frameworks you used in your research to analyze the customer personas with LLMs? we used the random walk-based method to approximate the unlabeled personas to save the computation cost.\n"
     ]
    },
    {
     "name": "stdout",
     "output_type": "stream",
     "text": [
      "\n",
      " Interviewer: Can you tell me about your current research or coursework in your master's or PhD program that relates to algorithms, particularly in the context of large language models?\n",
      " Interviewee:nus cs phd. we applied llm to reason the e-commerce customer personas.\n",
      " Interviewer: Interviewer: That's fascinating! Could you elaborate on any specific methodologies or frameworks you used in your research to analyze the customer personas with LLMs?\n",
      " Interviewee:we used the random walk-based method to approximate the unlabeled personas to save the computation cost.\n"
     ]
    },
    {
     "name": "stdin",
     "output_type": "stream",
     "text": [
      "That sounds like an interesting approach! Can you share any challenges you faced while implementing the random walk-based method, and how you addressed them in your research? yes\n"
     ]
    },
    {
     "name": "stdout",
     "output_type": "stream",
     "text": [
      "\n",
      " Interviewer: Can you tell me about your current research or coursework in your master's or PhD program that relates to algorithms, particularly in the context of large language models?\n",
      " Interviewee:nus cs phd. we applied llm to reason the e-commerce customer personas.\n",
      " Interviewer: Interviewer: That's fascinating! Could you elaborate on any specific methodologies or frameworks you used in your research to analyze the customer personas with LLMs?\n",
      " Interviewee:we used the random walk-based method to approximate the unlabeled personas to save the computation cost.\n",
      " Interviewer: That sounds like an interesting approach! Can you share any challenges you faced while implementing the random walk-based method, and how you addressed them in your research?\n",
      " Interviewee:yes\n"
     ]
    }
   ],
   "source": [
    "area_ = \"IT & web\"\n",
    "position_ = \"Research Intern - Algorithms Group: Reasoning Abilities of LLMs\"\n",
    "aspects_ = \"\"\"\n",
    "Required Qualifications\n",
    "Currently enrolled in a master's or PhD program in Computer Science, Mathematics, Electrical Engineering, or a related STEM field.  \n",
    "Other Requirements\n",
    "\n",
    "Research Interns are expected to be physically located in their manager’s Microsoft worksite location for the duration of their internship.\n",
    "In addition to the qualifications below, you’ll need to submit a minimum of two reference letters for this position as well as a cover letter and any relevant work or research samples. After you submit your application, a request for letters may be sent to your list of references on your behalf. Note that reference letters cannot be requested until after you have submitted your application, and furthermore, that they might not be automatically requested for all candidates. You may wish to alert your letter writers in advance, so they will be ready to submit your letter. \n",
    "Preferred Qualifications\n",
    "Some publications at top ML conferences (NeurIPS, ICML, ICLR, etc.) or top journals.\n",
    "Hands on expertise in training LLMs using PyTorch, TensorFlow, JAX.\n",
    "Hands on experience in doing RL training such as those found in RLHF pipelines or games such as Go.\n",
    "\"\"\"\n",
    "itr_num_ = 3\n",
    "hist_conv_=\"empty\"\n",
    "prompt_sys_ass = prompts.AGENT_A_INTERVIEW_SYS.format(area=area_)\n",
    "for i in range(itr_num_):\n",
    "    prompt_user_ass = prompts.AGENT_A_INTERVIEW_USR.format(position=position_, aspects=aspects_,\n",
    "                                                           hist_conv=hist_conv_, itr_num=itr_num_,\n",
    "                                                           itr_left=itr_num_-i, itr_index=i,)\n",
    "    new_q = agent_a2.query(prompt_sys_ass, prompt_user_ass)['answer']\n",
    "    new_a = input(new_q)\n",
    "    hist_conv_ = update_hist_conv(hist_conv_, new_q, new_a)\n",
    "    print(hist_conv_)"
   ]
  },
  {
   "cell_type": "markdown",
   "id": "f3fe7d16-d7bd-45ec-8878-dd373467652e",
   "metadata": {
    "jp-MarkdownHeadingCollapsed": true
   },
   "source": [
    "## local agent a"
   ]
  },
  {
   "cell_type": "code",
   "execution_count": 26,
   "id": "c5f92f5c-44f4-4590-9804-3dd30eaaab10",
   "metadata": {},
   "outputs": [],
   "source": [
    "a_params = {\n",
    "    \"area\": \"IT & web\",\n",
    "    \"position\" : \"Research Intern - Algorithms Group: Reasoning Abilities of LLMs\",\n",
    "    \"aspects\" : \"\"\"\n",
    "    Required Qualifications\n",
    "    Currently enrolled in a master's or PhD program in Computer Science, Mathematics, Electrical Engineering, or a related STEM field.  \n",
    "    Other Requirements\n",
    "    \n",
    "    Research Interns are expected to be physically located in their manager’s Microsoft worksite location for the duration of their internship.\n",
    "    In addition to the qualifications below, you’ll need to submit a minimum of two reference letters for this position as well as a cover letter and any relevant work or research samples. After you submit your application, a request for letters may be sent to your list of references on your behalf. Note that reference letters cannot be requested until after you have submitted your application, and furthermore, that they might not be automatically requested for all candidates. You may wish to alert your letter writers in advance, so they will be ready to submit your letter. \n",
    "    Preferred Qualifications\n",
    "    Some publications at top ML conferences (NeurIPS, ICML, ICLR, etc.) or top journals.\n",
    "    Hands on expertise in training LLMs using PyTorch, TensorFlow, JAX.\n",
    "    Hands on experience in doing RL training such as those found in RLHF pipelines or games such as Go.\n",
    "    \"\"\",\n",
    "    \"itr_num\": 10\n",
    "}\n",
    "interviewer = agent_a.Agent_A(a_params, )"
   ]
  },
  {
   "cell_type": "code",
   "execution_count": 27,
   "id": "61062b46-e4ce-4f62-9579-fff71105d149",
   "metadata": {},
   "outputs": [
    {
     "data": {
      "text/plain": [
       "\"Can you please share which master's or PhD program you are currently enrolled in, and how it aligns with the role of a Research Intern in the Algorithms Group?\""
      ]
     },
     "execution_count": 27,
     "metadata": {},
     "output_type": "execute_result"
    }
   ],
   "source": [
    "interviewer.ask(0)"
   ]
  },
  {
   "cell_type": "code",
   "execution_count": 28,
   "id": "19e1d5c1-5c01-479d-98a2-abb64d087ff0",
   "metadata": {},
   "outputs": [],
   "source": [
    "interviewer.update_conv_b(\"i'm currently a nus phd student\")"
   ]
  },
  {
   "cell_type": "code",
   "execution_count": 30,
   "id": "ca555f75-fcdc-4560-8480-9425c55403cd",
   "metadata": {},
   "outputs": [
    {
     "data": {
      "text/plain": [
       "'\\nCould you tell me more about your specific area of research within your PhD program and how it might contribute to your work as a Research Intern focused on the reasoning abilities of large language models (LLMs)?'"
      ]
     },
     "execution_count": 30,
     "metadata": {},
     "output_type": "execute_result"
    }
   ],
   "source": [
    "interviewer.ask(1)"
   ]
  },
  {
   "cell_type": "code",
   "execution_count": 31,
   "id": "8ba4dbe9-e708-4d83-b609-c8aa5982d98f",
   "metadata": {},
   "outputs": [],
   "source": [
    "interviewer.update_conv_b(\"One of the areas I'm currently researching is the application of large language models (LLMs) within the e-commerce sector.\")"
   ]
  },
  {
   "cell_type": "code",
   "execution_count": 34,
   "id": "59a55e71-1f0a-446e-ada0-a9910a697b16",
   "metadata": {},
   "outputs": [
    {
     "data": {
      "text/plain": [
       "'\\nCan you describe any experience you have with training large language models using frameworks like PyTorch, TensorFlow, or JAX?'"
      ]
     },
     "execution_count": 34,
     "metadata": {},
     "output_type": "execute_result"
    }
   ],
   "source": [
    "interviewer.ask(2)"
   ]
  },
  {
   "cell_type": "code",
   "execution_count": 35,
   "id": "5e64276b-23fa-4484-b994-9cadf826892d",
   "metadata": {},
   "outputs": [],
   "source": [
    "interviewer.update_conv_b(\"Taking into account the required resources, I haven't had the opportunity to directly train a real large language model (LLM). However, I have previously used TensorFlow and PyTorch to train graph neural networks.\")"
   ]
  },
  {
   "cell_type": "code",
   "execution_count": 36,
   "id": "80cdaa7d-b2b8-4b4e-ac99-c4796b89c1d6",
   "metadata": {},
   "outputs": [
    {
     "data": {
      "text/plain": [
       "\"\\nCould you share if you've had any experience with reinforcement learning, particularly in relation to training processes like those used in RLHF pipelines or strategic games such as Go?\""
      ]
     },
     "execution_count": 36,
     "metadata": {},
     "output_type": "execute_result"
    }
   ],
   "source": [
    "interviewer.ask(3)"
   ]
  },
  {
   "cell_type": "code",
   "execution_count": 37,
   "id": "baf8a168-2f43-40a7-90b0-bf8fe741d73a",
   "metadata": {},
   "outputs": [],
   "source": [
    "interviewer.update_conv_b(\"Yes, I previously worked on a project focused on distributed reinforcement learning. The goal was to have two agents learn by sharing some parameters while operating in similar but distinct environments.\")"
   ]
  },
  {
   "cell_type": "code",
   "execution_count": 38,
   "id": "869e411c-65c2-4ce8-8998-cace2e451e8e",
   "metadata": {},
   "outputs": [
    {
     "data": {
      "text/plain": [
       "\"Can you provide any examples of publications or research work you've contributed to, particularly in top machine learning conferences or journals like NeurIPS, ICML, or ICLR?\""
      ]
     },
     "execution_count": 38,
     "metadata": {},
     "output_type": "execute_result"
    }
   ],
   "source": [
    "interviewer.ask(4)"
   ]
  },
  {
   "cell_type": "code",
   "execution_count": 40,
   "id": "39c76fea-0f88-4730-85e9-41229cd89a8f",
   "metadata": {},
   "outputs": [],
   "source": [
    "interviewer.update_conv_b(\"In fact, since my primary areas of publication are recommendation systems, data mining, and information retrieval, I have submitted papers to conferences like KDD, WWW, and SIGIR.\")"
   ]
  },
  {
   "cell_type": "code",
   "execution_count": 41,
   "id": "3313af78-5060-4aca-8ca5-11591c563ea1",
   "metadata": {},
   "outputs": [
    {
     "data": {
      "text/plain": [
       "\"\\nCould you share your current location and confirm whether you will be able to relocate to your manager's Microsoft worksite for the duration of the internship, as required?\""
      ]
     },
     "execution_count": 41,
     "metadata": {},
     "output_type": "execute_result"
    }
   ],
   "source": [
    "interviewer.ask(5)"
   ]
  },
  {
   "cell_type": "code",
   "execution_count": 42,
   "id": "a226e42d-bbe8-4fb5-a982-3d0ad48b860a",
   "metadata": {},
   "outputs": [],
   "source": [
    "interviewer.update_conv_b(\"I am currently in Singapore, but I am open to relocating to the designated internship location.\")"
   ]
  },
  {
   "cell_type": "code",
   "execution_count": 43,
   "id": "6fef5d63-df6d-47e5-8fd3-00f3f8a83617",
   "metadata": {},
   "outputs": [
    {
     "data": {
      "text/plain": [
       "\"Could you provide insight into any specific research or work samples you've completed that demonstrate your ability to contribute to the Algorithms Group, particularly in projects related to the reasoning abilities of large language models?\""
      ]
     },
     "execution_count": 43,
     "metadata": {},
     "output_type": "execute_result"
    }
   ],
   "source": [
    "interviewer.ask(6)"
   ]
  },
  {
   "cell_type": "code",
   "execution_count": 44,
   "id": "550d73a6-e661-4ce5-9a6a-e7b82d445d44",
   "metadata": {},
   "outputs": [],
   "source": [
    "interviewer.update_conv_b(\"Certainly. I utilize large language models to assign multiple persona tags to each e-commerce customer, enabling effective persona representation. However, due to the high cost of labeling, we have adopted a method combining random walk and active learning to approximate the majority of customers (90%). This approach is supported by a theoretical proof of the error margin.\")"
   ]
  },
  {
   "cell_type": "code",
   "execution_count": 46,
   "id": "2da9410b-f96e-43a4-81e5-98d7edf02f25",
   "metadata": {},
   "outputs": [
    {
     "data": {
      "text/plain": [
       "'Can you share any challenges you faced while working on your project involving large language models for persona representation, and how you overcame them?'"
      ]
     },
     "execution_count": 46,
     "metadata": {},
     "output_type": "execute_result"
    }
   ],
   "source": [
    "interviewer.ask(7)"
   ]
  },
  {
   "cell_type": "code",
   "execution_count": 47,
   "id": "3549fab6-baa4-4726-95be-0aa079bcd682",
   "metadata": {},
   "outputs": [],
   "source": [
    "interviewer.update_conv_b(\"As I mentioned, due to the high cost of persona label annotation, we use a method based on random walk and active learning to approximate the majority of customers (90%), with a theoretical proof of the error margin. It seems we've covered most of the topics of interest. How about I ask a few questions to better understand the details of your position?\")"
   ]
  },
  {
   "cell_type": "code",
   "execution_count": 48,
   "id": "b5fd5d41-07fb-428b-bcf4-f8a7437e5a0d",
   "metadata": {},
   "outputs": [
    {
     "data": {
      "text/plain": [
       "'\\nBefore we conclude, could you discuss any steps you’ve taken or plan to take to ensure that your reference letters and cover letter effectively showcase your suitability for the Research Intern position?'"
      ]
     },
     "execution_count": 48,
     "metadata": {},
     "output_type": "execute_result"
    }
   ],
   "source": [
    "interviewer.ask(8)"
   ]
  },
  {
   "cell_type": "code",
   "execution_count": 49,
   "id": "a100df8f-e517-446e-bda9-a29d6dc00cb4",
   "metadata": {},
   "outputs": [],
   "source": [
    "interviewer.update_conv_b(\"Of course. My collaborators are very willing to provide me with strong recommendation letters, so I believe we won't have any concerns in that regard.\")"
   ]
  },
  {
   "cell_type": "code",
   "execution_count": 50,
   "id": "808193a2-b563-4ed6-a00e-375a88f5f129",
   "metadata": {},
   "outputs": [
    {
     "data": {
      "text/plain": [
       "'\\nThank you for sharing that. As we wrap up, could you tell me how you plan to highlight your specific skills and experiences in your cover letter to align with the responsibilities and expectations of the Research Intern role in the Algorithms Group?'"
      ]
     },
     "execution_count": 50,
     "metadata": {},
     "output_type": "execute_result"
    }
   ],
   "source": [
    "interviewer.ask(9)"
   ]
  },
  {
   "cell_type": "code",
   "execution_count": 52,
   "id": "f1dae3c4-a26e-4086-9b96-fad3c640ca5d",
   "metadata": {},
   "outputs": [],
   "source": [
    "interviewer.update_conv_b(\"Certainly. I believe the following points would be highlighted: (1) solid development skills, (2) excellent communication abilities, and (3) outstanding problem-solving skills.\")"
   ]
  },
  {
   "cell_type": "code",
   "execution_count": 55,
   "id": "29e02b49-8183-4e0c-b01c-fb604c1b563b",
   "metadata": {},
   "outputs": [
    {
     "name": "stdout",
     "output_type": "stream",
     "text": [
      "\n",
      " Interviewer: Can you please share which master's or PhD program you are currently enrolled in, and how it aligns with the role of a Research Intern in the Algorithms Group?\n",
      " Interviewee: i'm currently a nus phd student\n",
      " Interviewer: \n",
      "Could you tell me more about your specific area of research within your PhD program and how it might contribute to your work as a Research Intern focused on the reasoning abilities of large language models (LLMs)?\n",
      " Interviewee: One of the areas I'm currently researching is the application of large language models (LLMs) within the e-commerce sector.\n",
      " Interviewer: \n",
      "Can you describe any experience you have with training large language models using frameworks like PyTorch, TensorFlow, or JAX?\n",
      " Interviewee: Taking into account the required resources, I haven't had the opportunity to directly train a real large language model (LLM). However, I have previously used TensorFlow and PyTorch to train graph neural networks.\n",
      " Interviewer: \n",
      "Could you share if you've had any experience with reinforcement learning, particularly in relation to training processes like those used in RLHF pipelines or strategic games such as Go?\n",
      " Interviewee: Yes, I previously worked on a project focused on distributed reinforcement learning. The goal was to have two agents learn by sharing some parameters while operating in similar but distinct environments.\n",
      " Interviewer: Can you provide any examples of publications or research work you've contributed to, particularly in top machine learning conferences or journals like NeurIPS, ICML, or ICLR?\n",
      " Interviewee: In fact, since my primary areas of publication are recommendation systems, data mining, and information retrieval, I have submitted papers to conferences like KDD, WWW, and SIGIR.\n",
      " Interviewer: \n",
      "Could you share your current location and confirm whether you will be able to relocate to your manager's Microsoft worksite for the duration of the internship, as required?\n",
      " Interviewee: I am currently in Singapore, but I am open to relocating to the designated internship location.\n",
      " Interviewer: Could you provide insight into any specific research or work samples you've completed that demonstrate your ability to contribute to the Algorithms Group, particularly in projects related to the reasoning abilities of large language models?\n",
      " Interviewee: Certainly. I utilize large language models to assign multiple persona tags to each e-commerce customer, enabling effective persona representation. However, due to the high cost of labeling, we have adopted a method combining random walk and active learning to approximate the majority of customers (90%). This approach is supported by a theoretical proof of the error margin.\n",
      " Interviewer: Can you share any challenges you faced while working on your project involving large language models for persona representation, and how you overcame them?\n",
      " Interviewee: As I mentioned, due to the high cost of persona label annotation, we use a method based on random walk and active learning to approximate the majority of customers (90%), with a theoretical proof of the error margin. It seems we've covered most of the topics of interest. How about I ask a few questions to better understand the details of your position?\n",
      " Interviewer: \n",
      "Before we conclude, could you discuss any steps you’ve taken or plan to take to ensure that your reference letters and cover letter effectively showcase your suitability for the Research Intern position?\n",
      " Interviewee: Of course. My collaborators are very willing to provide me with strong recommendation letters, so I believe we won't have any concerns in that regard.\n",
      " Interviewer: \n",
      "Thank you for sharing that. As we wrap up, could you tell me how you plan to highlight your specific skills and experiences in your cover letter to align with the responsibilities and expectations of the Research Intern role in the Algorithms Group?\n",
      " Interviewee: Certainly. I believe the following points would be highlighted: (1) solid development skills, (2) excellent communication abilities, and (3) outstanding problem-solving skills.\n"
     ]
    }
   ],
   "source": [
    "print(interviewer.hist_conv)"
   ]
  },
  {
   "cell_type": "markdown",
   "id": "382e0aba-4350-425a-8141-15ecf7e6f063",
   "metadata": {
    "jp-MarkdownHeadingCollapsed": true
   },
   "source": [
    "## local agent a 2"
   ]
  },
  {
   "cell_type": "code",
   "execution_count": 56,
   "id": "abb62193-9e83-4afd-969b-d3d806355565",
   "metadata": {},
   "outputs": [],
   "source": [
    "a_params = {\n",
    "    \"area\": \"Retail & Marketing\",\n",
    "    \"position\" : \"Apple Retail - TW-Genius\",\n",
    "    \"aspects\" : \"\"\"\n",
    "    Be available to work a schedule based on business needs that may include nights, weekends, and public holidays in the retail store, and reliably attend work as scheduled, in line with local laws and subject to any approved accommodations.\n",
    "    Have experience in retail or sales, or related work experience.\n",
    "    Possess the visual inspection and fine motor skills to safely perform hardware repairs.\n",
    "    Have experience troubleshooting hardware and software issues in a customer service environment.\n",
    "\n",
    "    Demonstrate technical expertise of Apple products and services, including repairing devices.\n",
    "    Analyze problems and follow troubleshooting steps to identify the root cause of a technical issue.\n",
    "    Navigate customer service issues with care and strong interpersonal skills.\n",
    "    Apply an action-oriented mindset and sense of motivation to do what’s best for the customer and Apple, often anticipating and adjusting for problems and roadblocks.\n",
    "    Work in a fast-paced environment, often under tight deadlines and pressure, while supporting multiple customers or hardware repairs at the same time.\n",
    "    Communicate effectively and tailor your communication style to different audiences.\n",
    "    Collaborate and motivate across the store and and among key partners to achieve individual and overall team goals.\n",
    "    Support and educate the broader team by sharing knowledge, experiences, and insights.\n",
    "    Frequently handle, lift, and move merchandise safely.\n",
    "    \"\"\",\n",
    "    \"itr_num\": 5\n",
    "}\n",
    "interviewer2 = agent_a.Agent_A(a_params,)"
   ]
  },
  {
   "cell_type": "code",
   "execution_count": 58,
   "id": "745f5e7d-7c05-4c3b-88c5-0eef159e7738",
   "metadata": {},
   "outputs": [
    {
     "data": {
      "text/plain": [
       "'\\nCan you describe your experience in troubleshooting hardware and software issues, particularly in a customer service setting, and how you applied your technical expertise to resolve those issues?'"
      ]
     },
     "execution_count": 58,
     "metadata": {},
     "output_type": "execute_result"
    }
   ],
   "source": [
    "interviewer2.ask(0)"
   ]
  },
  {
   "cell_type": "code",
   "execution_count": 59,
   "id": "2247dfac-0fe6-4815-b175-aacdc22e02a0",
   "metadata": {},
   "outputs": [],
   "source": [
    "interviewer2.update_conv_b(\"As a PhD student in computer science, I work with the Linux operating system and code development every day, and I often need to manage servers in the computer lab. Therefore, I have strong troubleshooting skills.\")"
   ]
  },
  {
   "cell_type": "code",
   "execution_count": 60,
   "id": "ec81ff83-ca23-4563-8594-b7a112d8ca44",
   "metadata": {},
   "outputs": [
    {
     "data": {
      "text/plain": [
       "'\\nHow do you approach a situation where you need to analyze a technical problem and identify its root cause, especially when working under pressure and tight deadlines?'"
      ]
     },
     "execution_count": 60,
     "metadata": {},
     "output_type": "execute_result"
    }
   ],
   "source": [
    "interviewer2.ask(1)"
   ]
  },
  {
   "cell_type": "code",
   "execution_count": 61,
   "id": "69b2855a-cad4-40cf-98a4-b1ca7f033293",
   "metadata": {},
   "outputs": [],
   "source": [
    "interviewer2.update_conv_b(\"First, I am always able to remain calm emotionally. Second, I will inform my boss of any potential risks. Finally, I will efficiently troubleshoot the issue and, if necessary, discuss it with my colleagues and boss until the cause is identified.\")"
   ]
  },
  {
   "cell_type": "code",
   "execution_count": 62,
   "id": "5bcfdafc-e398-496d-ba2d-4cacaade758d",
   "metadata": {},
   "outputs": [
    {
     "data": {
      "text/plain": [
       "'\\nCould you share an example of a time when you successfully navigated a customer service issue, demonstrating your interpersonal skills and ensuring a positive outcome for the customer?'"
      ]
     },
     "execution_count": 62,
     "metadata": {},
     "output_type": "execute_result"
    }
   ],
   "source": [
    "interviewer2.ask(2)"
   ]
  },
  {
   "cell_type": "code",
   "execution_count": 63,
   "id": "e72b0c99-25c9-46df-9f2e-ccc0b4657f77",
   "metadata": {},
   "outputs": [],
   "source": [
    "interviewer2.update_conv_b(\"In fact, I have never served clients. However, I often interact with other students who use the servers. I always first ensure that they believe in our ability to resolve server issues and provide an estimated repair time. Additionally, I encourage them to factor any delays into their experiment or development plans.\")"
   ]
  },
  {
   "cell_type": "code",
   "execution_count": 64,
   "id": "420a9ceb-bad4-4dc0-ad10-0bb2f94fb459",
   "metadata": {},
   "outputs": [
    {
     "data": {
      "text/plain": [
       "\"\\nCan you describe your experience or approach in situations where you've had to collaborate and motivate a team to achieve a common goal, especially when facing challenges or roadblocks?\""
      ]
     },
     "execution_count": 64,
     "metadata": {},
     "output_type": "execute_result"
    }
   ],
   "source": [
    "interviewer2.ask(3)"
   ]
  },
  {
   "cell_type": "code",
   "execution_count": 65,
   "id": "a2795529-da52-4cab-b49c-c5f447e1f40c",
   "metadata": {},
   "outputs": [],
   "source": [
    "interviewer2.update_conv_b(\"I'm good at teamwork.\")"
   ]
  },
  {
   "cell_type": "code",
   "execution_count": 66,
   "id": "7056998c-fc45-453f-8b89-fb57e6f9fe86",
   "metadata": {},
   "outputs": [
    {
     "data": {
      "text/plain": [
       "'\\nCan you share an example of a situation where you had to work a flexible schedule, including nights or weekends, to meet business needs, and how you managed to balance this with other commitments?'"
      ]
     },
     "execution_count": 66,
     "metadata": {},
     "output_type": "execute_result"
    }
   ],
   "source": [
    "interviewer2.ask(4)"
   ]
  },
  {
   "cell_type": "code",
   "execution_count": 67,
   "id": "abb7775f-eff0-447b-9620-6996efb31d46",
   "metadata": {},
   "outputs": [],
   "source": [
    "interviewer2.update_conv_b(\"I have a healthy personal schedule. I sleep at 11 pm and get up at 9 am. Plenty of sleep makes me feel energetic and works well.\")"
   ]
  },
  {
   "cell_type": "code",
   "execution_count": 69,
   "id": "9e80ae02-3f65-4310-a589-9aa9c14acbbb",
   "metadata": {},
   "outputs": [
    {
     "name": "stdout",
     "output_type": "stream",
     "text": [
      "\n",
      " Interviewer: \n",
      "Can you describe your experience in troubleshooting hardware and software issues, particularly in a customer service setting, and how you applied your technical expertise to resolve those issues?\n",
      " Interviewee: As a PhD student in computer science, I work with the Linux operating system and code development every day, and I often need to manage servers in the computer lab. Therefore, I have strong troubleshooting skills.\n",
      " Interviewer: \n",
      "How do you approach a situation where you need to analyze a technical problem and identify its root cause, especially when working under pressure and tight deadlines?\n",
      " Interviewee: First, I am always able to remain calm emotionally. Second, I will inform my boss of any potential risks. Finally, I will efficiently troubleshoot the issue and, if necessary, discuss it with my colleagues and boss until the cause is identified.\n",
      " Interviewer: \n",
      "Could you share an example of a time when you successfully navigated a customer service issue, demonstrating your interpersonal skills and ensuring a positive outcome for the customer?\n",
      " Interviewee: In fact, I have never served clients. However, I often interact with other students who use the servers. I always first ensure that they believe in our ability to resolve server issues and provide an estimated repair time. Additionally, I encourage them to factor any delays into their experiment or development plans.\n",
      " Interviewer: \n",
      "Can you describe your experience or approach in situations where you've had to collaborate and motivate a team to achieve a common goal, especially when facing challenges or roadblocks?\n",
      " Interviewee: I'm good at teamwork.\n",
      " Interviewer: \n",
      "Can you share an example of a situation where you had to work a flexible schedule, including nights or weekends, to meet business needs, and how you managed to balance this with other commitments?\n",
      " Interviewee: I have a healthy personal schedule. I sleep at 11 pm and get up at 9 am. Plenty of sleep makes me feel energetic and works well.\n"
     ]
    }
   ],
   "source": [
    "print(interviewer2.hist_conv)"
   ]
  },
  {
   "cell_type": "markdown",
   "id": "25a7b236-efb8-477f-be5e-7b38a97855eb",
   "metadata": {
    "jp-MarkdownHeadingCollapsed": true
   },
   "source": [
    "## local agent c "
   ]
  },
  {
   "cell_type": "code",
   "execution_count": 104,
   "id": "045922dd-8adb-4c40-9047-032eb647acda",
   "metadata": {},
   "outputs": [],
   "source": [
    "c_params = {\"role_a\": \"interviewer\", \"role_b\": \"interviewee\"}\n",
    "a_c = agent_c.Agent_C(interviewer.hist_conv, [], c_params,)"
   ]
  },
  {
   "cell_type": "code",
   "execution_count": 113,
   "id": "74ef6075-7d35-463d-b565-e63bd8d031a8",
   "metadata": {},
   "outputs": [
    {
     "data": {
      "text/plain": [
       "('[\"I\\'m currently a nus phd student.\",\\n\"One of the areas I\\'m currently researching is the application of large language models (LLMs) within the e-commerce sector.\",\\n\"However, I have previously used TensorFlow and PyTorch to train graph neural networks.\",\\n\"Yes, I previously worked on a project focused on distributed reinforcement learning.\",\\n\"In fact, since my primary areas of publication are recommendation systems, data mining, and information retrieval, I have submitted papers to conferences like KDD, WWW, and SIGIR.\",\\n\"I utilize large language models to assign multiple persona tags to each e-commerce customer, enabling effective persona representation.\",\\n\"My collaborators are very willing to provide me with strong recommendation letters.\",\\n\"I believe the following points would be highlighted: (1) solid development skills, (2) excellent communication abilities, and (3) outstanding problem-solving skills.\"]',\n",
       " \"The retrieved pieces highlight the interviewee's engagement in a PhD program focused on applying large language models, experience with TensorFlow and PyTorch, work in distributed reinforcement learning, and publications in relevant fields, indicating a good level of knowledge in computer science systems.\",\n",
       " 'A')"
      ]
     },
     "execution_count": 113,
     "metadata": {},
     "output_type": "execute_result"
    }
   ],
   "source": [
    "q1 = \"How is the interviewee's knowledge on cs system? A. Good, B. Basic, C. Little, D.Know nothing\"\n",
    "a_c.answer_q(q1)"
   ]
  },
  {
   "cell_type": "code",
   "execution_count": 114,
   "id": "8edc4b0a-a000-450b-829c-6f0714e0e12f",
   "metadata": {},
   "outputs": [
    {
     "data": {
      "text/plain": [
       "('[\"I believe the following points would be highlighted: (1) solid development skills, (2) excellent communication abilities, and (3) outstanding problem-solving skills.\"]',\n",
       " \"The retrieved piece explicitly states that the interviewee believes they have 'excellent communication abilities,' indicating good communication skills.\",\n",
       " 'A')"
      ]
     },
     "execution_count": 114,
     "metadata": {},
     "output_type": "execute_result"
    }
   ],
   "source": [
    "q2 = \"How is the interviewee's communication skills? A. Good, B. Basic, C. Little, D.Bad\"\n",
    "a_c.answer_q(q2)"
   ]
  },
  {
   "cell_type": "code",
   "execution_count": 118,
   "id": "9c6f37c4-a695-487f-9a81-213ba75417a0",
   "metadata": {},
   "outputs": [
    {
     "data": {
      "text/plain": [
       "('[]',\n",
       " 'The retrieved relevant pieces do not contain any information regarding the number of hours the interviewee works every day, making it impossible to determine the correct answer from the multiple-choice options.',\n",
       " 'None')"
      ]
     },
     "execution_count": 118,
     "metadata": {},
     "output_type": "execute_result"
    }
   ],
   "source": [
    "q3 = \"How many hours does this interviewee work everyday? A. 8-10 hrs, B. 6-8 hrs, C. 4-6 hrs, D.less than 4 hrs\"\n",
    "a_c.answer_q(q3)"
   ]
  },
  {
   "cell_type": "code",
   "execution_count": 121,
   "id": "22e718c3-1c19-4a05-afac-c42ad3a8edbc",
   "metadata": {},
   "outputs": [
    {
     "data": {
      "text/plain": [
       "('[\"I am currently in Singapore, but I am open to relocating to the designated internship location.\"]',\n",
       " 'The retrieved piece explicitly states that the interviewee is currently in Singapore, which aligns with option B.',\n",
       " 'B')"
      ]
     },
     "execution_count": 121,
     "metadata": {},
     "output_type": "execute_result"
    }
   ],
   "source": [
    "q4 = \"Where does the interviewee come from? A. Kyoto, B. Singapore, C. Beijing, D. LA\"\n",
    "a_c.answer_q(q4)"
   ]
  },
  {
   "cell_type": "markdown",
   "id": "a6578bf6-af1e-4cf2-b39f-1107652f1577",
   "metadata": {},
   "source": [
    "## agent a - podcast"
   ]
  },
  {
   "cell_type": "code",
   "execution_count": 19,
   "id": "7c452e93-e24c-4d4b-9ab9-a1da8ebd29dc",
   "metadata": {},
   "outputs": [],
   "source": [
    "a_params = {\n",
    "    \"area\": \"Environmental Science\",\n",
    "    \"guest_role\": \"climate change activist\",\n",
    "    \"aspects\": \"\"\"\n",
    "    - The most pressing environmental challenges today\n",
    "    - The role of activism in shaping climate policy\n",
    "    - Corporate responsibility in sustainability efforts\n",
    "    - Personal experiences and lessons from advocacy work\n",
    "    \"\"\",\n",
    "    \"bio\": \"\"\"\n",
    "    The guest is an British environmental activist. In 2018, at age 15, she started the first \"School Strike for Climate\" outside the British parliament.\n",
    "    The protest gained widespread attention and inspired hundreds of thousands of young people to join her  strikes. \n",
    "    She has spoken to politicians, the EU and UK parliaments, and protesters. \n",
    "    \"\"\",\n",
    "    \"itr_num\": 4\n",
    "}\n",
    "podcast_host = agent_a.Agent_A(a_params, sce='podcast interview',)"
   ]
  },
  {
   "cell_type": "code",
   "execution_count": 20,
   "id": "d664bcd7-c314-4370-965b-a662f8d1e3bb",
   "metadata": {},
   "outputs": [
    {
     "data": {
      "text/plain": [
       "'Welcome to the show, and thank you so much for joining us today. You\\'ve become an inspiring figure in the climate movement, particularly with your \"School Strike for Climate\" that started outside the British parliament. As we dive into this conversation, I\\'d love to hear your perspective on the most pressing environmental challenges we face today. In your view, what are the most critical issues that demand our immediate attention?'"
      ]
     },
     "execution_count": 20,
     "metadata": {},
     "output_type": "execute_result"
    }
   ],
   "source": [
    "podcast_host.ask(0)"
   ]
  },
  {
   "cell_type": "code",
   "execution_count": 21,
   "id": "4f087bbb-0fd3-4109-9394-c2a2c1f372b5",
   "metadata": {},
   "outputs": [],
   "source": [
    "podcast_host.update_conv_b(\"those in government are not forward-thinking, and are not protecting the earth for our future generations\")"
   ]
  },
  {
   "cell_type": "code",
   "execution_count": 22,
   "id": "5fbbb275-543d-4e5f-a853-1307048ead04",
   "metadata": {},
   "outputs": [
    {
     "data": {
      "text/plain": [
       "'\\nYou mentioned the need for forward-thinking leadership to protect our planet for future generations. How do you see activism, particularly youth-led movements, playing a role in shaping climate policy and urging governments to take more proactive measures?'"
      ]
     },
     "execution_count": 22,
     "metadata": {},
     "output_type": "execute_result"
    }
   ],
   "source": [
    "podcast_host.ask(1)"
   ]
  },
  {
   "cell_type": "code",
   "execution_count": 23,
   "id": "f6e117b4-3aa6-427c-870d-0f6c71f995e2",
   "metadata": {},
   "outputs": [],
   "source": [
    "podcast_host.update_conv_b(\"the youth population is huge all around the world, we have power especially through social media and garnering online support\")"
   ]
  },
  {
   "cell_type": "code",
   "execution_count": 24,
   "id": "c38e4243-83d6-4a87-a074-3543a1c9e509",
   "metadata": {},
   "outputs": [
    {
     "data": {
      "text/plain": [
       "\"Host: It's truly inspiring to see how social media and online platforms have amplified the voices of young activists like yourself. Shifting gears a bit, I'm curious about your thoughts on corporate responsibility. How do you think companies can genuinely contribute to sustainability efforts, and what role should they play in supporting the broader climate movement?\""
      ]
     },
     "execution_count": 24,
     "metadata": {},
     "output_type": "execute_result"
    }
   ],
   "source": [
    "podcast_host.ask(2)"
   ]
  },
  {
   "cell_type": "code",
   "execution_count": 25,
   "id": "03b001b9-31aa-4a20-8d12-1abf5bde7d5e",
   "metadata": {},
   "outputs": [],
   "source": [
    "podcast_host.update_conv_b(\"structurally having a division responsible for carbon footprint tracking, participation in climate summits, healthy competition in striving to be clean\")"
   ]
  },
  {
   "cell_type": "code",
   "execution_count": 26,
   "id": "48239cf8-9d10-480b-828e-8b9395dd6650",
   "metadata": {},
   "outputs": [
    {
     "data": {
      "text/plain": [
       "'\\nHost: It\\'s evident that companies have a pivotal role to play in the climate movement, and it\\'s refreshing to hear your thoughts on their responsibilities. Reflecting on your journey from starting the \"School Strike for Climate\" to becoming a prominent voice on the global stage, could you share some personal experiences or lessons that have profoundly shaped your advocacy work and outlook on climate action?'"
      ]
     },
     "execution_count": 26,
     "metadata": {},
     "output_type": "execute_result"
    }
   ],
   "source": [
    "podcast_host.ask(3)"
   ]
  },
  {
   "cell_type": "code",
   "execution_count": 27,
   "id": "ad29de55-274a-4a59-a5a2-7749dc180557",
   "metadata": {},
   "outputs": [],
   "source": [
    "podcast_host.update_conv_b(\"i have traveled the world and the people in power are blinding themselves to how the world is changing\")"
   ]
  },
  {
   "cell_type": "code",
   "execution_count": 28,
   "id": "9d38692f-7d03-4418-9d0b-16e393d715cc",
   "metadata": {},
   "outputs": [
    {
     "name": "stdout",
     "output_type": "stream",
     "text": [
      "\n",
      " Host: Welcome to the show, and thank you so much for joining us today. You've become an inspiring figure in the climate movement, particularly with your \"School Strike for Climate\" that started outside the British parliament. As we dive into this conversation, I'd love to hear your perspective on the most pressing environmental challenges we face today. In your view, what are the most critical issues that demand our immediate attention?\n",
      " Guest: those in government are not forward-thinking, and are not protecting the earth for our future generations\n",
      " Host: \n",
      "You mentioned the need for forward-thinking leadership to protect our planet for future generations. How do you see activism, particularly youth-led movements, playing a role in shaping climate policy and urging governments to take more proactive measures?\n",
      " Guest: the youth population is huge all around the world, we have power especially through social media and garnering online support\n",
      " Host: Host: It's truly inspiring to see how social media and online platforms have amplified the voices of young activists like yourself. Shifting gears a bit, I'm curious about your thoughts on corporate responsibility. How do you think companies can genuinely contribute to sustainability efforts, and what role should they play in supporting the broader climate movement?\n",
      " Guest: structurally having a division responsible for carbon footprint tracking, participation in climate summits, healthy competition in striving to be clean\n",
      " Host: \n",
      "Host: It's evident that companies have a pivotal role to play in the climate movement, and it's refreshing to hear your thoughts on their responsibilities. Reflecting on your journey from starting the \"School Strike for Climate\" to becoming a prominent voice on the global stage, could you share some personal experiences or lessons that have profoundly shaped your advocacy work and outlook on climate action?\n",
      " Guest: i have traveled the world and the people in power are blinding themselves to how the world is changing\n"
     ]
    }
   ],
   "source": [
    "print(podcast_host.hist_conv)"
   ]
  },
  {
   "cell_type": "markdown",
   "id": "8e43dea7-7a74-457c-93ad-78133c7ab0e0",
   "metadata": {},
   "source": [
    "## agent a - negotiation"
   ]
  },
  {
   "cell_type": "code",
   "execution_count": 4,
   "id": "75beb7cc-a899-484f-8003-0ba442a72923",
   "metadata": {},
   "outputs": [],
   "source": [
    "a_params = {\n",
    "    \"area\": \"Corporate Law & Compliance\",\n",
    "    \"deal\": \"Legal advisory services for regulatory compliance and contract structuring\",\n",
    "    \"aspects\": \"\"\"\n",
    "    - Budget constraints for legal services\n",
    "    - Key legal concerns (e.g., regulatory compliance, IP protection)\n",
    "    - Preferred engagement model (hourly vs. retainer)\n",
    "    - Decision-making process (who approves legal partnerships)\n",
    "    \"\"\",\n",
    "    \"bio\": \"\"\"\n",
    "    The buyer is the CFO of InnovateX, a fast-growing tech startup specializing in AI-driven fintech solutions. \n",
    "    The company has recently expanded into international markets, raising concerns about cross-border regulations, intellectual property rights, and compliance with financial laws.\n",
    "    They are looking to engage a law firm that can provide ongoing legal support while balancing cost efficiency.\n",
    "    \"\"\",\n",
    "    \"itr_num\": 4\n",
    "}\n",
    "\n",
    "salesperson = agent_a.Agent_A(a_params, sce='b2b negotiation',)"
   ]
  },
  {
   "cell_type": "code",
   "execution_count": 5,
   "id": "fa7796cd-3ede-4519-9875-d237bb461be8",
   "metadata": {},
   "outputs": [
    {
     "data": {
      "text/plain": [
       "\"Thank you for joining me today. As InnovateX continues to expand into international markets, I understand that navigating cross-border regulations and maintaining compliance with financial laws can be quite complex. Could you share more about the specific regulatory compliance challenges you're currently facing and how you envision legal advisory services supporting your efforts in this area?\""
      ]
     },
     "execution_count": 5,
     "metadata": {},
     "output_type": "execute_result"
    }
   ],
   "source": [
    "salesperson.ask(0)"
   ]
  },
  {
   "cell_type": "code",
   "execution_count": 6,
   "id": "6ab6d4b4-96a1-4385-96c3-755de9fcdeba",
   "metadata": {},
   "outputs": [],
   "source": [
    "salesperson.update_conv_b(\"i want to be able to grow internationally but there are competitors with similar fintech solutions abroad\")"
   ]
  },
  {
   "cell_type": "code",
   "execution_count": 7,
   "id": "0ad015ad-2c14-4757-a273-8acb075685a1",
   "metadata": {},
   "outputs": [
    {
     "data": {
      "text/plain": [
       "\"\\nI understand that standing out in a competitive landscape can be challenging. As you look to grow internationally, balancing innovation with compliance must be a priority. Can you share how InnovateX currently approaches compliance in new markets and whether there are particular areas—such as intellectual property protection or financial regulations—where you're seeking more robust legal support? Additionally, how does your team prioritize budget for these legal services while maintaining cost efficiency?\""
      ]
     },
     "execution_count": 7,
     "metadata": {},
     "output_type": "execute_result"
    }
   ],
   "source": [
    "salesperson.ask(1)"
   ]
  },
  {
   "cell_type": "code",
   "execution_count": 8,
   "id": "63192454-dce1-42a8-8b8b-713837469be1",
   "metadata": {},
   "outputs": [],
   "source": [
    "salesperson.update_conv_b(\"We struggle with evolving fintech regulations and protecting our AI-driven IP while ensuring data privacy compliance. Currently, we handle some legal matters in-house, but scaling requires structured external support—balancing expertise with cost efficiency is our key challenge.\")"
   ]
  },
  {
   "cell_type": "code",
   "execution_count": 9,
   "id": "7d61e349-5d34-49a1-b018-77a0358cead9",
   "metadata": {},
   "outputs": [
    {
     "data": {
      "text/plain": [
       "'Given your focus on balancing expertise with cost efficiency, I’d like to explore how you see the structure of legal support aligning with your strategic goals. Could you share more about how InnovateX envisions an ideal engagement model for legal services—do you lean more towards flexible, hourly arrangements, or do you see a fixed retainer providing more predictability? Additionally, when it comes to finalizing a partnership for these services, could you describe the decision-making process and who within InnovateX would be involved in approving such a collaboration?'"
      ]
     },
     "execution_count": 9,
     "metadata": {},
     "output_type": "execute_result"
    }
   ],
   "source": [
    "salesperson.ask(2)"
   ]
  },
  {
   "cell_type": "code",
   "execution_count": 10,
   "id": "f166b0f3-5792-4586-aeb9-654b16edfa8f",
   "metadata": {},
   "outputs": [],
   "source": [
    "salesperson.update_conv_b(\"i'm not sure\")"
   ]
  },
  {
   "cell_type": "code",
   "execution_count": 11,
   "id": "1bebc514-f971-4a8d-83bb-82f4a77b1d0c",
   "metadata": {},
   "outputs": [
    {
     "data": {
      "text/plain": [
       "'Certainly, I appreciate your transparency. It sounds like InnovateX is at a pivotal moment in managing its legal strategy alongside growth objectives. Given your focus on scalability and efficiency, could you share whether there are specific financial thresholds or constraints that we should be aware of as we tailor our proposal? Understanding this will help us align our services with your operational and financial plans effectively.'"
      ]
     },
     "execution_count": 11,
     "metadata": {},
     "output_type": "execute_result"
    }
   ],
   "source": [
    "salesperson.ask(3)"
   ]
  },
  {
   "cell_type": "code",
   "execution_count": 12,
   "id": "73aaeb8e-f5ac-4f86-b1a8-57e3405b0f45",
   "metadata": {},
   "outputs": [],
   "source": [
    "salesperson.update_conv_b(\"needs to be done by next january\")"
   ]
  },
  {
   "cell_type": "code",
   "execution_count": 13,
   "id": "c311ef86-6ecc-4b32-bac1-499131cac03b",
   "metadata": {},
   "outputs": [
    {
     "name": "stdout",
     "output_type": "stream",
     "text": [
      "\n",
      " Salesperson: Thank you for joining me today. As InnovateX continues to expand into international markets, I understand that navigating cross-border regulations and maintaining compliance with financial laws can be quite complex. Could you share more about the specific regulatory compliance challenges you're currently facing and how you envision legal advisory services supporting your efforts in this area?\n",
      " Buyer: i want to be able to grow internationally but there are competitors with similar fintech solutions abroad\n",
      " Salesperson: \n",
      "I understand that standing out in a competitive landscape can be challenging. As you look to grow internationally, balancing innovation with compliance must be a priority. Can you share how InnovateX currently approaches compliance in new markets and whether there are particular areas—such as intellectual property protection or financial regulations—where you're seeking more robust legal support? Additionally, how does your team prioritize budget for these legal services while maintaining cost efficiency?\n",
      " Buyer: We struggle with evolving fintech regulations and protecting our AI-driven IP while ensuring data privacy compliance. Currently, we handle some legal matters in-house, but scaling requires structured external support—balancing expertise with cost efficiency is our key challenge.\n",
      " Salesperson: Given your focus on balancing expertise with cost efficiency, I’d like to explore how you see the structure of legal support aligning with your strategic goals. Could you share more about how InnovateX envisions an ideal engagement model for legal services—do you lean more towards flexible, hourly arrangements, or do you see a fixed retainer providing more predictability? Additionally, when it comes to finalizing a partnership for these services, could you describe the decision-making process and who within InnovateX would be involved in approving such a collaboration?\n",
      " Buyer: i'm not sure\n",
      " Salesperson: Certainly, I appreciate your transparency. It sounds like InnovateX is at a pivotal moment in managing its legal strategy alongside growth objectives. Given your focus on scalability and efficiency, could you share whether there are specific financial thresholds or constraints that we should be aware of as we tailor our proposal? Understanding this will help us align our services with your operational and financial plans effectively.\n",
      " Buyer: needs to be done by next january\n"
     ]
    }
   ],
   "source": [
    "print(salesperson.hist_conv)"
   ]
  },
  {
   "cell_type": "code",
   "execution_count": null,
   "id": "de567b63-388a-46b6-9115-a1168ab74a0b",
   "metadata": {},
   "outputs": [],
   "source": []
  }
 ],
 "metadata": {
  "kernelspec": {
   "display_name": "Python 3 (ipykernel)",
   "language": "python",
   "name": "python3"
  },
  "language_info": {
   "codemirror_mode": {
    "name": "ipython",
    "version": 3
   },
   "file_extension": ".py",
   "mimetype": "text/x-python",
   "name": "python",
   "nbconvert_exporter": "python",
   "pygments_lexer": "ipython3",
   "version": "3.8.16"
  }
 },
 "nbformat": 4,
 "nbformat_minor": 5
}
