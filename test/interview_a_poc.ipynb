{
 "cells": [
  {
   "cell_type": "code",
   "execution_count": 11,
   "id": "75f2a78d-d15a-4558-bb06-6de7a71b959d",
   "metadata": {},
   "outputs": [],
   "source": [
    "import sys\n",
    "import os\n",
    "sys.path.append('../src/')\n",
    "import importlib\n",
    "from openai import OpenAI\n",
    "import oracle\n",
    "import agent_a\n",
    "from prompts import *\n",
    "import prompts"
   ]
  },
  {
   "cell_type": "code",
   "execution_count": 20,
   "id": "53921683-6c58-4a76-a979-357e8d62973d",
   "metadata": {},
   "outputs": [
    {
     "data": {
      "text/plain": [
       "<module 'agent_a' from '/Users/shiyimin/Library/CloudStorage/OneDrive-NationalUniversityofSingapore/Projects/llm_lead/interviews/test/../src/agent_a.py'>"
      ]
     },
     "execution_count": 20,
     "metadata": {},
     "output_type": "execute_result"
    }
   ],
   "source": [
    "importlib.reload(agent_a)"
   ]
  },
  {
   "cell_type": "code",
   "execution_count": 6,
   "id": "76e77806-a0a1-4cba-a196-b5d6771a61ae",
   "metadata": {},
   "outputs": [],
   "source": [
    "OPENAI_API_KEY = os.getenv(\"OPENAI_API_KEY\")\n",
    "client = OpenAI(api_key=OPENAI_API_KEY)"
   ]
  },
  {
   "cell_type": "markdown",
   "id": "f4bf8452-aa17-4b39-88ee-a2673fca4adb",
   "metadata": {
    "jp-MarkdownHeadingCollapsed": true
   },
   "source": [
    "## gpt4o"
   ]
  },
  {
   "cell_type": "code",
   "execution_count": 7,
   "id": "847b2e4d-af92-4a82-916c-33b487657d2f",
   "metadata": {},
   "outputs": [],
   "source": [
    "agent_a = oracle.Oracle('gpt-4o')"
   ]
  },
  {
   "cell_type": "code",
   "execution_count": 8,
   "id": "0dc14b8e-a55e-499d-b31d-3474cfc8829e",
   "metadata": {},
   "outputs": [
    {
     "data": {
      "text/plain": [
       "{'query': 'how are you today?',\n",
       " 'answer': \"I'm just a computer program, so I don't have feelings, but I'm here and ready to help you. How can I assist you today?\"}"
      ]
     },
     "execution_count": 8,
     "metadata": {},
     "output_type": "execute_result"
    }
   ],
   "source": [
    "agent_a.query('you are a professional interviewer agent','how are you today?')"
   ]
  },
  {
   "cell_type": "code",
   "execution_count": 44,
   "id": "d26b20dd-a70f-4489-8ef7-b3adaa1f908a",
   "metadata": {},
   "outputs": [],
   "source": [
    "def update_hist_conv(hist_conv, last_q, last_a):\n",
    "    curr = hist_conv if hist_conv != \"empty\" else \"\"\n",
    "    return curr + \"\\n Interviewer: \" + last_q + \"\\n Interviewee:\" + last_a"
   ]
  },
  {
   "cell_type": "code",
   "execution_count": 51,
   "id": "71227485-f9fc-477a-906a-655440c0c186",
   "metadata": {},
   "outputs": [],
   "source": [
    "area_ = \"IT & web\"\n",
    "position_ = \"Research Intern - Algorithms Group: Reasoning Abilities of LLMs\"\n",
    "aspects_ = \"\"\"\n",
    "Required Qualifications\n",
    "Currently enrolled in a master's or PhD program in Computer Science, Mathematics, Electrical Engineering, or a related STEM field.  \n",
    "Other Requirements\n",
    "\n",
    "Research Interns are expected to be physically located in their manager’s Microsoft worksite location for the duration of their internship.\n",
    "In addition to the qualifications below, you’ll need to submit a minimum of two reference letters for this position as well as a cover letter and any relevant work or research samples. After you submit your application, a request for letters may be sent to your list of references on your behalf. Note that reference letters cannot be requested until after you have submitted your application, and furthermore, that they might not be automatically requested for all candidates. You may wish to alert your letter writers in advance, so they will be ready to submit your letter. \n",
    "Preferred Qualifications\n",
    "Some publications at top ML conferences (NeurIPS, ICML, ICLR, etc.) or top journals.\n",
    "Hands on expertise in training LLMs using PyTorch, TensorFlow, JAX.\n",
    "Hands on experience in doing RL training such as those found in RLHF pipelines or games such as Go.\n",
    "\"\"\"\n",
    "# hist_conv_=\"empty\"\n",
    "itr_num_ = 3"
   ]
  },
  {
   "cell_type": "code",
   "execution_count": 52,
   "id": "2c37f38b-406e-4c69-b420-726129152574",
   "metadata": {},
   "outputs": [
    {
     "name": "stdin",
     "output_type": "stream",
     "text": [
      "Can you describe your current research focus in your master's or PhD program and how it aligns with the reasoning abilities of large language models? nus cs phd. we applied llm to reason the e-commerce customer personas.\n"
     ]
    },
    {
     "name": "stdout",
     "output_type": "stream",
     "text": [
      "\n",
      " Interviewer: Can you describe your current research focus in your master's or PhD program and how it aligns with the reasoning abilities of large language models?\n",
      " Interviewee:nus cs phd. we applied llm to reason the e-commerce customer personas.\n"
     ]
    },
    {
     "name": "stdin",
     "output_type": "stream",
     "text": [
      "\n",
      "Could you share any experience you have with training large language models using frameworks like PyTorch, TensorFlow, or JAX? yes pytorch.\n"
     ]
    },
    {
     "name": "stdout",
     "output_type": "stream",
     "text": [
      "\n",
      " Interviewer: Can you describe your current research focus in your master's or PhD program and how it aligns with the reasoning abilities of large language models?\n",
      " Interviewee:nus cs phd. we applied llm to reason the e-commerce customer personas.\n",
      " Interviewer: \n",
      "Could you share any experience you have with training large language models using frameworks like PyTorch, TensorFlow, or JAX?\n",
      " Interviewee:yes pytorch.\n"
     ]
    },
    {
     "name": "stdin",
     "output_type": "stream",
     "text": [
      "\n",
      "Can you elaborate on any work you have done involving reinforcement learning training, particularly in areas like RLHF pipelines or games like Go? yes correct.\n"
     ]
    },
    {
     "name": "stdout",
     "output_type": "stream",
     "text": [
      "\n",
      " Interviewer: Can you describe your current research focus in your master's or PhD program and how it aligns with the reasoning abilities of large language models?\n",
      " Interviewee:nus cs phd. we applied llm to reason the e-commerce customer personas.\n",
      " Interviewer: \n",
      "Could you share any experience you have with training large language models using frameworks like PyTorch, TensorFlow, or JAX?\n",
      " Interviewee:yes pytorch.\n",
      " Interviewer: \n",
      "Can you elaborate on any work you have done involving reinforcement learning training, particularly in areas like RLHF pipelines or games like Go?\n",
      " Interviewee:yes correct.\n"
     ]
    }
   ],
   "source": [
    "hist_conv_=\"empty\"\n",
    "prompt_sys_ass = prompts.AGENT_A_INTERVIEW_SYS.format(area=area_)\n",
    "for i in range(itr_num_):\n",
    "    prompt_user_ass = prompts.AGENT_A_INTERVIEW_USR.format(position=position_, aspects=aspects_,\n",
    "                                                           hist_conv=hist_conv_, itr_num=itr_num_,\n",
    "                                                           itr_left=itr_num_-i, itr_index=i,)\n",
    "    new_q = agent_a.query(prompt_sys_ass, prompt_user_ass)['answer']\n",
    "    new_a = input(new_q)\n",
    "    hist_conv_ = update_hist_conv(hist_conv_, new_q, new_a)\n",
    "    print(hist_conv_)"
   ]
  },
  {
   "cell_type": "markdown",
   "id": "cb35c9df-6c0e-4309-bcaa-d0ca6963e5bf",
   "metadata": {},
   "source": [
    "## gpt4o-mini"
   ]
  },
  {
   "cell_type": "code",
   "execution_count": 39,
   "id": "f2785280-7fc3-47fb-99ea-2e56b4fe9fe6",
   "metadata": {},
   "outputs": [],
   "source": [
    "agent_a2 = oracle.Oracle('gpt-4o-mini')"
   ]
  },
  {
   "cell_type": "code",
   "execution_count": 40,
   "id": "37709f93-106d-491b-85ff-46c1edb1f5b6",
   "metadata": {},
   "outputs": [
    {
     "data": {
      "text/plain": [
       "{'query': 'how are you today?',\n",
       " 'answer': \"I'm just a program, so I don't have feelings, but I'm here and ready to assist you! How can I help you today?\"}"
      ]
     },
     "execution_count": 40,
     "metadata": {},
     "output_type": "execute_result"
    }
   ],
   "source": [
    "agent_a2.query('you are a professional interviewer agent','how are you today?')"
   ]
  },
  {
   "cell_type": "code",
   "execution_count": 53,
   "id": "e36ed733-8925-4cd4-888c-1b6f93dddfd8",
   "metadata": {},
   "outputs": [
    {
     "name": "stdin",
     "output_type": "stream",
     "text": [
      "Can you tell me about your current research or coursework in your master's or PhD program that relates to algorithms, particularly in the context of large language models? nus cs phd. we applied llm to reason the e-commerce customer personas.\n"
     ]
    },
    {
     "name": "stdout",
     "output_type": "stream",
     "text": [
      "\n",
      " Interviewer: Can you tell me about your current research or coursework in your master's or PhD program that relates to algorithms, particularly in the context of large language models?\n",
      " Interviewee:nus cs phd. we applied llm to reason the e-commerce customer personas.\n"
     ]
    },
    {
     "name": "stdin",
     "output_type": "stream",
     "text": [
      "Interviewer: That's fascinating! Could you elaborate on any specific methodologies or frameworks you used in your research to analyze the customer personas with LLMs? we used the random walk-based method to approximate the unlabeled personas to save the computation cost.\n"
     ]
    },
    {
     "name": "stdout",
     "output_type": "stream",
     "text": [
      "\n",
      " Interviewer: Can you tell me about your current research or coursework in your master's or PhD program that relates to algorithms, particularly in the context of large language models?\n",
      " Interviewee:nus cs phd. we applied llm to reason the e-commerce customer personas.\n",
      " Interviewer: Interviewer: That's fascinating! Could you elaborate on any specific methodologies or frameworks you used in your research to analyze the customer personas with LLMs?\n",
      " Interviewee:we used the random walk-based method to approximate the unlabeled personas to save the computation cost.\n"
     ]
    },
    {
     "name": "stdin",
     "output_type": "stream",
     "text": [
      "That sounds like an interesting approach! Can you share any challenges you faced while implementing the random walk-based method, and how you addressed them in your research? yes\n"
     ]
    },
    {
     "name": "stdout",
     "output_type": "stream",
     "text": [
      "\n",
      " Interviewer: Can you tell me about your current research or coursework in your master's or PhD program that relates to algorithms, particularly in the context of large language models?\n",
      " Interviewee:nus cs phd. we applied llm to reason the e-commerce customer personas.\n",
      " Interviewer: Interviewer: That's fascinating! Could you elaborate on any specific methodologies or frameworks you used in your research to analyze the customer personas with LLMs?\n",
      " Interviewee:we used the random walk-based method to approximate the unlabeled personas to save the computation cost.\n",
      " Interviewer: That sounds like an interesting approach! Can you share any challenges you faced while implementing the random walk-based method, and how you addressed them in your research?\n",
      " Interviewee:yes\n"
     ]
    }
   ],
   "source": [
    "area_ = \"IT & web\"\n",
    "position_ = \"Research Intern - Algorithms Group: Reasoning Abilities of LLMs\"\n",
    "aspects_ = \"\"\"\n",
    "Required Qualifications\n",
    "Currently enrolled in a master's or PhD program in Computer Science, Mathematics, Electrical Engineering, or a related STEM field.  \n",
    "Other Requirements\n",
    "\n",
    "Research Interns are expected to be physically located in their manager’s Microsoft worksite location for the duration of their internship.\n",
    "In addition to the qualifications below, you’ll need to submit a minimum of two reference letters for this position as well as a cover letter and any relevant work or research samples. After you submit your application, a request for letters may be sent to your list of references on your behalf. Note that reference letters cannot be requested until after you have submitted your application, and furthermore, that they might not be automatically requested for all candidates. You may wish to alert your letter writers in advance, so they will be ready to submit your letter. \n",
    "Preferred Qualifications\n",
    "Some publications at top ML conferences (NeurIPS, ICML, ICLR, etc.) or top journals.\n",
    "Hands on expertise in training LLMs using PyTorch, TensorFlow, JAX.\n",
    "Hands on experience in doing RL training such as those found in RLHF pipelines or games such as Go.\n",
    "\"\"\"\n",
    "itr_num_ = 3\n",
    "hist_conv_=\"empty\"\n",
    "prompt_sys_ass = prompts.AGENT_A_INTERVIEW_SYS.format(area=area_)\n",
    "for i in range(itr_num_):\n",
    "    prompt_user_ass = prompts.AGENT_A_INTERVIEW_USR.format(position=position_, aspects=aspects_,\n",
    "                                                           hist_conv=hist_conv_, itr_num=itr_num_,\n",
    "                                                           itr_left=itr_num_-i, itr_index=i,)\n",
    "    new_q = agent_a2.query(prompt_sys_ass, prompt_user_ass)['answer']\n",
    "    new_a = input(new_q)\n",
    "    hist_conv_ = update_hist_conv(hist_conv_, new_q, new_a)\n",
    "    print(hist_conv_)"
   ]
  },
  {
   "cell_type": "markdown",
   "id": "f3fe7d16-d7bd-45ec-8878-dd373467652e",
   "metadata": {},
   "source": [
    "## local agent a"
   ]
  },
  {
   "cell_type": "code",
   "execution_count": 21,
   "id": "c5f92f5c-44f4-4590-9804-3dd30eaaab10",
   "metadata": {},
   "outputs": [],
   "source": [
    "a_params = {\n",
    "    \"area\": \"IT & web\",\n",
    "    \"position\" : \"Research Intern - Algorithms Group: Reasoning Abilities of LLMs\",\n",
    "    \"aspects\" : \"\"\"\n",
    "    Required Qualifications\n",
    "    Currently enrolled in a master's or PhD program in Computer Science, Mathematics, Electrical Engineering, or a related STEM field.  \n",
    "    Other Requirements\n",
    "    \n",
    "    Research Interns are expected to be physically located in their manager’s Microsoft worksite location for the duration of their internship.\n",
    "    In addition to the qualifications below, you’ll need to submit a minimum of two reference letters for this position as well as a cover letter and any relevant work or research samples. After you submit your application, a request for letters may be sent to your list of references on your behalf. Note that reference letters cannot be requested until after you have submitted your application, and furthermore, that they might not be automatically requested for all candidates. You may wish to alert your letter writers in advance, so they will be ready to submit your letter. \n",
    "    Preferred Qualifications\n",
    "    Some publications at top ML conferences (NeurIPS, ICML, ICLR, etc.) or top journals.\n",
    "    Hands on expertise in training LLMs using PyTorch, TensorFlow, JAX.\n",
    "    Hands on experience in doing RL training such as those found in RLHF pipelines or games such as Go.\n",
    "    \"\"\",\n",
    "    \"itr_num\": 10\n",
    "}\n",
    "interviewer = agent_a.Agent_A(a_params, )"
   ]
  },
  {
   "cell_type": "code",
   "execution_count": 22,
   "id": "61062b46-e4ce-4f62-9579-fff71105d149",
   "metadata": {},
   "outputs": [
    {
     "data": {
      "text/plain": [
       "\"Can you please share which master's or PhD program you are currently enrolled in, and how it aligns with the field of Computer Science, Mathematics, Electrical Engineering, or a related STEM field?\""
      ]
     },
     "execution_count": 22,
     "metadata": {},
     "output_type": "execute_result"
    }
   ],
   "source": [
    "interviewer.ask(0)"
   ]
  },
  {
   "cell_type": "code",
   "execution_count": 23,
   "id": "19e1d5c1-5c01-479d-98a2-abb64d087ff0",
   "metadata": {},
   "outputs": [],
   "source": [
    "interviewer.update_conv_b(\"i'm currently a nus phd student\")"
   ]
  },
  {
   "cell_type": "code",
   "execution_count": 24,
   "id": "ca555f75-fcdc-4560-8480-9425c55403cd",
   "metadata": {},
   "outputs": [
    {
     "data": {
      "text/plain": [
       "\"\\n {role}: Can you please share which master's or PhD program you are currently enrolled in, and how it aligns with the field of Computer Science, Mathematics, Electrical Engineering, or a related STEM field?\\n {role}: i'm currently a nus phd student\""
      ]
     },
     "execution_count": 24,
     "metadata": {},
     "output_type": "execute_result"
    }
   ],
   "source": [
    "interviewer.hist_conv"
   ]
  },
  {
   "cell_type": "code",
   "execution_count": null,
   "id": "8ba4dbe9-e708-4d83-b609-c8aa5982d98f",
   "metadata": {},
   "outputs": [],
   "source": []
  },
  {
   "cell_type": "code",
   "execution_count": null,
   "id": "59a55e71-1f0a-446e-ada0-a9910a697b16",
   "metadata": {},
   "outputs": [],
   "source": []
  },
  {
   "cell_type": "code",
   "execution_count": null,
   "id": "5e64276b-23fa-4484-b994-9cadf826892d",
   "metadata": {},
   "outputs": [],
   "source": []
  }
 ],
 "metadata": {
  "kernelspec": {
   "display_name": "Python 3 (ipykernel)",
   "language": "python",
   "name": "python3"
  },
  "language_info": {
   "codemirror_mode": {
    "name": "ipython",
    "version": 3
   },
   "file_extension": ".py",
   "mimetype": "text/x-python",
   "name": "python",
   "nbconvert_exporter": "python",
   "pygments_lexer": "ipython3",
   "version": "3.9.6"
  }
 },
 "nbformat": 4,
 "nbformat_minor": 5
}
